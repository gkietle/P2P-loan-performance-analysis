{
 "cells": [
  {
   "cell_type": "code",
   "execution_count": 0,
   "metadata": {
    "application/vnd.databricks.v1+cell": {
     "cellMetadata": {},
     "inputWidgets": {},
     "nuid": "1280f13d-6367-4b2a-9120-fc6048749162",
     "showTitle": false,
     "title": ""
    }
   },
   "outputs": [],
   "source": [
    "import numpy as np\n",
    "from pyspark.sql import SparkSession\n",
    "from pyspark.ml.feature import Imputer\n",
    "from pyspark.sql.types import FloatType, ArrayType\n",
    "from pyspark.sql.functions import col, to_date, year, month, regexp_like, \\\n",
    "                                    regexp_extract, isnan, when, count, lit, udf, \\\n",
    "                                    pow as psf_pow, sum as psf_sum\n",
    "import findspark\n",
    "findspark.init()"
   ]
  },
  {
   "cell_type": "code",
   "execution_count": 0,
   "metadata": {
    "application/vnd.databricks.v1+cell": {
     "cellMetadata": {},
     "inputWidgets": {},
     "nuid": "51630913-d0cc-4dcb-a423-5b7f9df32495",
     "showTitle": false,
     "title": ""
    }
   },
   "outputs": [],
   "source": [
    "import warnings\n",
    "warnings.filterwarnings('ignore')"
   ]
  },
  {
   "cell_type": "code",
   "execution_count": 0,
   "metadata": {
    "application/vnd.databricks.v1+cell": {
     "cellMetadata": {},
     "inputWidgets": {},
     "nuid": "1c599138-688a-45c9-b218-c126a789dbaf",
     "showTitle": false,
     "title": ""
    }
   },
   "outputs": [],
   "source": [
    "storage_account_name = 'storageaccfinalproject'\n",
    "storage_account_access_key = 'DUIIuqAEO5nU1sqavDh4FhMy/CeNs6GVCWMx8dnbujqRCYGSzRovY2nUZ2g6vI8016Nen2i1IwYd+ASt/gUMmQ=='\n",
    "spark.conf.set('fs.azure.account.key.' + storage_account_name +\n",
    "               '.blob.core.windows.net', storage_account_access_key)"
   ]
  },
  {
   "cell_type": "code",
   "execution_count": 0,
   "metadata": {
    "application/vnd.databricks.v1+cell": {
     "cellMetadata": {},
     "inputWidgets": {},
     "nuid": "559b97d9-0ffa-4a06-bd10-ae1b8227dbce",
     "showTitle": false,
     "title": ""
    }
   },
   "outputs": [],
   "source": [
    "blob_container = 'inputraw'\n",
    "filePath = \"wasbs://\" + blob_container + \"@\" + storage_account_name + \\\n",
    "    \".blob.core.windows.net/Loan_status_2007-2020Q3.csv\"\n",
    "df = spark.read.format(\"csv\").load(filePath, inferSchema=True, header=True)"
   ]
  },
  {
   "cell_type": "markdown",
   "metadata": {
    "application/vnd.databricks.v1+cell": {
     "cellMetadata": {},
     "inputWidgets": {},
     "nuid": "93934c5f-59b9-4049-937d-5438ba3b210c",
     "showTitle": false,
     "title": ""
    }
   },
   "source": [
    "rename some columns"
   ]
  },
  {
   "cell_type": "code",
   "execution_count": 0,
   "metadata": {
    "application/vnd.databricks.v1+cell": {
     "cellMetadata": {},
     "inputWidgets": {},
     "nuid": "e795c6c6-01f6-4f97-9d87-a4eb343510a2",
     "showTitle": false,
     "title": ""
    },
    "scrolled": true
   },
   "outputs": [],
   "source": [
    "find = [\n",
    "    'mths_since_rcnt_il', 'mo_sin_rcnt_rev_tl_op', 'mo_sin_rcnt_tl', # rcnt and mo_sin_rcnt\n",
    "    'mths_since_recent_bc_dlq', 'pct_tl_nvr_dlq', # dlq\n",
    "    'mo_sin_old_il_acct', 'mo_sin_old_rev_tl_op', # mo_sin_old\n",
    "]\n",
    "replace = [\n",
    "    'mths_since_recent_il', 'mths_since_recent_rev_tl_op', 'mths_since_recent_tl', # recent and mths_since\n",
    "    'mths_since_recent_bc_delinq', 'percent_tl_nvr_deliq', # delinq\n",
    "    'mths_since_old_il_acct', 'mths_since_old_rev_tl_op' # mths_since_old\n",
    "]\n",
    "\n",
    "for f, r in zip(find, replace):\n",
    "    df = df.withColumnRenamed(f, r)\n",
    "\n",
    "del find, replace"
   ]
  },
  {
   "cell_type": "markdown",
   "metadata": {
    "application/vnd.databricks.v1+cell": {
     "cellMetadata": {},
     "inputWidgets": {},
     "nuid": "b13bd5e3-6941-45d3-8c5f-1e845068e339",
     "showTitle": false,
     "title": ""
    }
   },
   "source": [
    "convert to datetime"
   ]
  },
  {
   "cell_type": "code",
   "execution_count": 0,
   "metadata": {
    "application/vnd.databricks.v1+cell": {
     "cellMetadata": {},
     "inputWidgets": {},
     "nuid": "4de590b1-2037-4db5-a989-720103ad0b4e",
     "showTitle": false,
     "title": ""
    }
   },
   "outputs": [],
   "source": [
    "datetime_columns = ['issue_d', 'earliest_cr_line', 'last_pymnt_d', 'next_pymnt_d',\n",
    "                    'last_credit_pull_d', 'sec_app_earliest_cr_line', 'hardship_start_date',\n",
    "                    'hardship_end_date', 'payment_plan_start_date']\n",
    "\n",
    "for dt_col in datetime_columns:\n",
    "    df = df.withColumn(dt_col, to_date(df[dt_col], \"MMM-yyyy\"))"
   ]
  },
  {
   "cell_type": "markdown",
   "metadata": {
    "application/vnd.databricks.v1+cell": {
     "cellMetadata": {},
     "inputWidgets": {},
     "nuid": "d226345a-44f1-43c6-b442-f37ca95514f9",
     "showTitle": false,
     "title": ""
    }
   },
   "source": [
    "remove loan data issued before 1-1-2013"
   ]
  },
  {
   "cell_type": "code",
   "execution_count": 0,
   "metadata": {
    "application/vnd.databricks.v1+cell": {
     "cellMetadata": {},
     "inputWidgets": {},
     "nuid": "37f78777-a830-4d94-a1f9-86a763f602ad",
     "showTitle": false,
     "title": ""
    }
   },
   "outputs": [],
   "source": [
    "df = df.filter(year('issue_d') > 2012)"
   ]
  },
  {
   "cell_type": "markdown",
   "metadata": {
    "application/vnd.databricks.v1+cell": {
     "cellMetadata": {},
     "inputWidgets": {},
     "nuid": "ad859ce2-997c-46b2-9ee6-0b3a41e3b0ad",
     "showTitle": false,
     "title": ""
    }
   },
   "source": [
    "modify column int_rate and revol_util: changing from \"xx.xx%\" to xx.xx"
   ]
  },
  {
   "cell_type": "code",
   "execution_count": 0,
   "metadata": {
    "application/vnd.databricks.v1+cell": {
     "cellMetadata": {},
     "inputWidgets": {},
     "nuid": "ef4a48c7-2fc1-403d-8d69-bb7e1445f65e",
     "showTitle": false,
     "title": ""
    }
   },
   "outputs": [],
   "source": [
    "df = df.withColumn('int_rate', regexp_extract('int_rate', r'(\\d+\\.\\d+)', 1).cast('float'))"
   ]
  },
  {
   "cell_type": "code",
   "execution_count": 0,
   "metadata": {
    "application/vnd.databricks.v1+cell": {
     "cellMetadata": {},
     "inputWidgets": {},
     "nuid": "50f9b263-b743-4b1f-b8cc-9106fa5278c1",
     "showTitle": false,
     "title": ""
    }
   },
   "outputs": [],
   "source": [
    "df = df.withColumn('revol_util', regexp_extract('revol_util', r'(\\d+\\.\\d+)', 1).cast(\"float\"))"
   ]
  },
  {
   "cell_type": "markdown",
   "metadata": {
    "application/vnd.databricks.v1+cell": {
     "cellMetadata": {},
     "inputWidgets": {},
     "nuid": "860364a2-33d0-4946-bcad-731247d55df5",
     "showTitle": false,
     "title": ""
    }
   },
   "source": [
    "create a column for deciding if it is matured loan; empty row = matured"
   ]
  },
  {
   "cell_type": "code",
   "execution_count": 0,
   "metadata": {
    "application/vnd.databricks.v1+cell": {
     "cellMetadata": {},
     "inputWidgets": {},
     "nuid": "d6f71e6e-40bf-403d-85e1-714f16c0d851",
     "showTitle": false,
     "title": ""
    }
   },
   "outputs": [],
   "source": [
    "df = df.withColumn('is_matured_loan', col('next_pymnt_d').isNull())"
   ]
  },
  {
   "cell_type": "markdown",
   "metadata": {
    "application/vnd.databricks.v1+cell": {
     "cellMetadata": {},
     "inputWidgets": {},
     "nuid": "659d2b13-85ca-437e-bea9-b77e17459164",
     "showTitle": false,
     "title": ""
    }
   },
   "source": [
    "I only analyzed the loan data that is matured"
   ]
  },
  {
   "cell_type": "code",
   "execution_count": 0,
   "metadata": {
    "application/vnd.databricks.v1+cell": {
     "cellMetadata": {},
     "inputWidgets": {},
     "nuid": "b8f9e50b-9e14-4566-b99a-355e7d24de79",
     "showTitle": false,
     "title": ""
    }
   },
   "outputs": [],
   "source": [
    "df = df.filter(df['is_matured_loan'])"
   ]
  },
  {
   "cell_type": "markdown",
   "metadata": {
    "application/vnd.databricks.v1+cell": {
     "cellMetadata": {},
     "inputWidgets": {},
     "nuid": "aea2eb28-0d5b-4f4c-877f-c0ef6b71f4f6",
     "showTitle": false,
     "title": ""
    }
   },
   "source": [
    "handle na / null data in dataframe"
   ]
  },
  {
   "cell_type": "code",
   "execution_count": 0,
   "metadata": {
    "application/vnd.databricks.v1+cell": {
     "cellMetadata": {},
     "inputWidgets": {},
     "nuid": "0c833324-5e2b-40c1-ab48-404ceaef9cc1",
     "showTitle": false,
     "title": ""
    }
   },
   "outputs": [],
   "source": [
    "# turned into binary: missing = 0; existing = 1\n",
    "mths_since_to_drop = [\n",
    "    col_name for col_name in df.columns \\\n",
    "    if col_name not in ['mths_since_recent_rev_tl_op', 'mths_since_recent_tl'] \\\n",
    "    and 'mths_since_' in col_name\n",
    "]\n",
    "\n",
    "for col_name in mths_since_to_drop:\n",
    "    df = df.withColumn(col_name,\n",
    "                       when(col(col_name).isNull(), 0) \\\n",
    "                       .otherwise(1))"
   ]
  },
  {
   "cell_type": "code",
   "execution_count": 0,
   "metadata": {
    "application/vnd.databricks.v1+cell": {
     "cellMetadata": {},
     "inputWidgets": {},
     "nuid": "24619d8e-f327-4e8b-ae64-0b71e0dca991",
     "showTitle": false,
     "title": ""
    }
   },
   "outputs": [],
   "source": [
    "# filled by zero\n",
    "df = df \\\n",
    "    .withColumn('deferral_term', when(col('deferral_term').isNull(), 0) \\\n",
    "    .otherwise(col('deferral_term')).cast(\"integer\"))"
   ]
  },
  {
   "cell_type": "code",
   "execution_count": 0,
   "metadata": {
    "application/vnd.databricks.v1+cell": {
     "cellMetadata": {},
     "inputWidgets": {},
     "nuid": "01589be9-8558-4dbc-bb46-d01ddb65cd26",
     "showTitle": false,
     "title": ""
    }
   },
   "outputs": [],
   "source": [
    "# filled by mean\n",
    "col_fill_by_mean = ['il_util', 'all_util', 'total_bal_il', 'max_bal_bc', \n",
    "                    'percent_bc_gt_75', 'bc_util', 'revol_util', 'dti',\n",
    "                    'percent_tl_nvr_deliq', 'avg_cur_bal', 'bc_open_to_buy']\n",
    "df = df.withColumn('dti', col('dti').cast(FloatType()))\n",
    "imputer = Imputer(strategy='mean', inputCols=col_fill_by_mean, outputCols=col_fill_by_mean)\n",
    "imputer = imputer.fit(df)\n",
    "df = imputer.transform(df)"
   ]
  },
  {
   "cell_type": "code",
   "execution_count": 0,
   "metadata": {
    "application/vnd.databricks.v1+cell": {
     "cellMetadata": {},
     "inputWidgets": {},
     "nuid": "051c2b71-c7a2-48a5-9596-b30416dc410e",
     "showTitle": false,
     "title": ""
    },
    "scrolled": true
   },
   "outputs": [],
   "source": [
    "# filled by mode (numeric)\n",
    "col_fill_by_mode = ['open_acc_6m', 'open_act_il', 'open_il_12m', 'open_il_24m',\n",
    "                    'open_rv_12m', 'open_rv_24m', 'inq_fi', 'total_cu_tl', 'inq_last_12m',\n",
    "                    'num_tl_120dpd_2m', 'num_rev_accts', 'inq_last_6mths']\n",
    "\n",
    "imputer = Imputer(strategy='mode', inputCols=col_fill_by_mode, outputCols=col_fill_by_mode)\n",
    "imputer = imputer.fit(df)\n",
    "df = imputer.transform(df)"
   ]
  },
  {
   "cell_type": "code",
   "execution_count": 0,
   "metadata": {
    "application/vnd.databricks.v1+cell": {
     "cellMetadata": {},
     "inputWidgets": {},
     "nuid": "2fd8f175-789e-4a04-8e1c-29f75c847790",
     "showTitle": false,
     "title": ""
    }
   },
   "outputs": [],
   "source": [
    "# filled by mode (string)\n",
    "for col_name in ['emp_length', 'zip_code', 'hardship_flag']:\n",
    "    most_common = df.freqItems([col_name]).first()[0][0]\n",
    "    df = df \\\n",
    "        .withColumn(col_name, when(col(col_name).isNull(), most_common) \\\n",
    "        .otherwise(col(col_name)))"
   ]
  },
  {
   "cell_type": "code",
   "execution_count": 0,
   "metadata": {
    "application/vnd.databricks.v1+cell": {
     "cellMetadata": {},
     "inputWidgets": {},
     "nuid": "d7faee72-065d-49de-aaff-4612244cc3c8",
     "showTitle": false,
     "title": ""
    }
   },
   "outputs": [],
   "source": [
    "# filled by empty\n",
    "col_fill_by_empty_str = ['emp_title', 'title', 'purpose']\n",
    "\n",
    "for col_name in col_fill_by_empty_str:\n",
    "    df = df \\\n",
    "        .withColumn(col_name, when(col(col_name).isNull(), 'Unknown') \\\n",
    "        .otherwise(col(col_name)))\n",
    "    \n",
    "# filled by df.na.fill('') for string columns (I guess)\n",
    "# https://spark.apache.org/docs/latest/api/python/reference/pyspark.sql/api/pyspark.sql.DataFrame.fillna.html"
   ]
  },
  {
   "cell_type": "markdown",
   "metadata": {
    "application/vnd.databricks.v1+cell": {
     "cellMetadata": {},
     "inputWidgets": {},
     "nuid": "c62b1ae6-6a36-4950-911c-8ba3f7075187",
     "showTitle": false,
     "title": ""
    }
   },
   "source": [
    "create columns for modelling the probablilty of default"
   ]
  },
  {
   "cell_type": "code",
   "execution_count": 0,
   "metadata": {
    "application/vnd.databricks.v1+cell": {
     "cellMetadata": {},
     "inputWidgets": {},
     "nuid": "36bfeae9-63e2-48e5-9114-67b225cb2618",
     "showTitle": false,
     "title": ""
    }
   },
   "outputs": [],
   "source": [
    "# scale some columns by annual_inc\n",
    "for col_name in ['loan_amnt', 'delinq_amnt', 'revol_bal', 'tot_cur_bal', \n",
    "                 'max_bal_bc', 'avg_cur_bal', 'total_bal_ex_mort']:\n",
    "    \n",
    "    df = df.withColumn(col_name + '_to_' + 'annual_inc', \n",
    "                       col(col_name) / (col('annual_inc') + 1))\n",
    "    \n",
    "# ratio of the number of open credit lines to the number of \n",
    "# total credit lines in the borrower's credit file.\n",
    "df = df.withColumn('open_cl_ratio', col('open_acc') / col('total_acc'))"
   ]
  },
  {
   "cell_type": "markdown",
   "metadata": {
    "application/vnd.databricks.v1+cell": {
     "cellMetadata": {},
     "inputWidgets": {},
     "nuid": "70b67c85-584a-4bc6-a420-004ad7a14110",
     "showTitle": false,
     "title": ""
    }
   },
   "source": [
    "create column: \"expected\"/realized installment"
   ]
  },
  {
   "cell_type": "code",
   "execution_count": 0,
   "metadata": {
    "application/vnd.databricks.v1+cell": {
     "cellMetadata": {},
     "inputWidgets": {},
     "nuid": "e830ae7a-c4f9-4138-88d3-83233f80d4b0",
     "showTitle": false,
     "title": ""
    }
   },
   "outputs": [],
   "source": [
    "df = df \\\n",
    "    .withColumn('num_mths_to_pay',\n",
    "                (year(col('last_pymnt_d')) - year(col('issue_d'))) * 12\n",
    "                + month(col('last_pymnt_d')) - month(col('issue_d')))"
   ]
  },
  {
   "cell_type": "code",
   "execution_count": 0,
   "metadata": {
    "application/vnd.databricks.v1+cell": {
     "cellMetadata": {},
     "inputWidgets": {},
     "nuid": "5ede251e-52fe-4b31-8d7e-8d9f707d3b6c",
     "showTitle": false,
     "title": ""
    }
   },
   "outputs": [],
   "source": [
    "# logic:\n",
    "# if last_pymnt_d not null => no need to fill => mnths_diff\n",
    "# else\n",
    "#   if total pymnt > 0 => total_pymnt / installment => approx mnths_diff\n",
    "#   else 0 => no payment made\n",
    "\n",
    "df = df.withColumn(\n",
    "    'num_mths_to_pay',\n",
    "    when(\n",
    "        col('last_pymnt_d').isNull(),\n",
    "        when(\n",
    "            col('total_pymnt') > 0, \n",
    "            col('total_pymnt') / col('installment')) \\\n",
    "        .otherwise(0)) \\\n",
    "    .otherwise(col('num_mths_to_pay')).cast(\"integer\"))"
   ]
  },
  {
   "cell_type": "code",
   "execution_count": 0,
   "metadata": {
    "application/vnd.databricks.v1+cell": {
     "cellMetadata": {},
     "inputWidgets": {},
     "nuid": "5fd2736e-0121-41a7-a404-4e1f70ae3bd6",
     "showTitle": false,
     "title": ""
    }
   },
   "outputs": [],
   "source": [
    "# create a term integer column and drop soon\n",
    "df = df.withColumn('term_int', regexp_extract('term', r'(\\d\\d)', 1).cast('integer'))"
   ]
  },
  {
   "cell_type": "code",
   "execution_count": 0,
   "metadata": {
    "application/vnd.databricks.v1+cell": {
     "cellMetadata": {},
     "inputWidgets": {},
     "nuid": "b86da8c2-fce9-4605-883f-3ae097b53d16",
     "showTitle": false,
     "title": ""
    }
   },
   "outputs": [],
   "source": [
    "def calculate_installment(p, r, n):\n",
    "    r = r / 100\n",
    "    return p * (r / 12) * (1 + r / 12) ** n / ((1 + r / 12) ** n - 1)\n",
    "\n",
    "df = df.withColumn(\n",
    "    'calculated_installment',\n",
    "    calculate_installment(col('funded_amnt'), col('int_rate'), col('term_int'))\n",
    ")"
   ]
  },
  {
   "cell_type": "code",
   "execution_count": 0,
   "metadata": {
    "application/vnd.databricks.v1+cell": {
     "cellMetadata": {},
     "inputWidgets": {},
     "nuid": "9388d45f-a486-47c9-989d-1aff13be8451",
     "showTitle": false,
     "title": ""
    }
   },
   "outputs": [],
   "source": [
    "# scale some installment columns by annual_inc\n",
    "for col_name in ['installment', 'calculated_installment']:\n",
    "    \n",
    "    df = df.withColumn(col_name + '_to_' + 'annual_inc', \n",
    "                       col(col_name) / (col('annual_inc') + 1))"
   ]
  },
  {
   "cell_type": "markdown",
   "metadata": {
    "application/vnd.databricks.v1+cell": {
     "cellMetadata": {},
     "inputWidgets": {},
     "nuid": "a7431118-bb0a-4edc-a6d6-a8b175308b39",
     "showTitle": false,
     "title": ""
    }
   },
   "source": [
    "create column: ROI"
   ]
  },
  {
   "cell_type": "code",
   "execution_count": 0,
   "metadata": {
    "application/vnd.databricks.v1+cell": {
     "cellMetadata": {},
     "inputWidgets": {},
     "nuid": "79f8a630-9c03-4e1b-b0d4-e20e1bb6bc47",
     "showTitle": false,
     "title": ""
    }
   },
   "outputs": [],
   "source": [
    "# assume\n",
    "depreciation_rate = 0.02"
   ]
  },
  {
   "cell_type": "code",
   "execution_count": 0,
   "metadata": {
    "application/vnd.databricks.v1+cell": {
     "cellMetadata": {},
     "inputWidgets": {},
     "nuid": "1e6d7175-b7e7-423d-9e66-642e18432a9a",
     "showTitle": false,
     "title": ""
    }
   },
   "outputs": [],
   "source": [
    "def calculate_avg_pymnt(total_pymnt, num_mths_to_pay, last_pymnt_amnt):\n",
    "    return when(num_mths_to_pay == 0, last_pymnt_amnt) \\\n",
    "            .otherwise(col('total_pymnt') / col('num_mths_to_pay'))"
   ]
  },
  {
   "cell_type": "code",
   "execution_count": 0,
   "metadata": {
    "application/vnd.databricks.v1+cell": {
     "cellMetadata": {},
     "inputWidgets": {},
     "nuid": "d9d0d184-241d-4c55-ad26-11f9ea03781b",
     "showTitle": false,
     "title": ""
    }
   },
   "outputs": [],
   "source": [
    "df = df.withColumn(\n",
    "    'avg_pymnt', \n",
    "    calculate_avg_pymnt(\n",
    "        col('total_pymnt'),\n",
    "        col('num_mths_to_pay'), \n",
    "        col('last_pymnt_amnt')))"
   ]
  },
  {
   "cell_type": "code",
   "execution_count": 0,
   "metadata": {
    "application/vnd.databricks.v1+cell": {
     "cellMetadata": {},
     "inputWidgets": {},
     "nuid": "b3e9b28a-0746-40b4-ad15-e2a916b6b3ef",
     "showTitle": false,
     "title": ""
    }
   },
   "outputs": [],
   "source": [
    "def calculate_cdf(num, depreciation_rate=0.02):\n",
    "    return sum([(1 + depreciation_rate / 12) ** (-t) for t in range(1, num + 1)])\n",
    "\n",
    "udf_calculate_cdf = udf(calculate_cdf, returnType=FloatType())"
   ]
  },
  {
   "cell_type": "code",
   "execution_count": 0,
   "metadata": {
    "application/vnd.databricks.v1+cell": {
     "cellMetadata": {},
     "inputWidgets": {},
     "nuid": "942804d0-d5ec-4dee-a795-7af02457d576",
     "showTitle": false,
     "title": ""
    }
   },
   "outputs": [],
   "source": [
    "df = df.withColumn('cdf', udf_calculate_cdf(col('num_mths_to_pay')))"
   ]
  },
  {
   "cell_type": "code",
   "execution_count": 0,
   "metadata": {
    "application/vnd.databricks.v1+cell": {
     "cellMetadata": {},
     "inputWidgets": {},
     "nuid": "87dd0520-1c98-4961-919c-bd1a1929fe5b",
     "showTitle": false,
     "title": ""
    },
    "scrolled": true
   },
   "outputs": [],
   "source": [
    "df = df.withColumn('CDP', col('cdf') * col('avg_pymnt'))"
   ]
  },
  {
   "cell_type": "code",
   "execution_count": 0,
   "metadata": {
    "application/vnd.databricks.v1+cell": {
     "cellMetadata": {},
     "inputWidgets": {},
     "nuid": "bb798c0d-6747-4bc9-83a4-b975c5f9afa9",
     "showTitle": false,
     "title": ""
    }
   },
   "outputs": [],
   "source": [
    "df = df.withColumn(\n",
    "    'CDP',\n",
    "    when(\n",
    "        (col('avg_pymnt') > 0)& \\\n",
    "        (col('num_mths_to_pay') == 0), \n",
    "        col('avg_pymnt')\n",
    "    ).otherwise(col('CDP')))"
   ]
  },
  {
   "cell_type": "code",
   "execution_count": 0,
   "metadata": {
    "application/vnd.databricks.v1+cell": {
     "cellMetadata": {},
     "inputWidgets": {},
     "nuid": "8ef2eb36-f709-4b12-9d6e-03369eb3757a",
     "showTitle": false,
     "title": ""
    }
   },
   "outputs": [],
   "source": [
    "def calculate_discounted_net_recoveries(depreciation_rate=0.02):\n",
    "    return (\n",
    "        (col('recoveries') - col('collection_recovery_fee')) \\\n",
    "        * 1 / (1 + depreciation_rate / 12)**(col('num_mths_to_pay') + 6)\n",
    "    )\n",
    "    \n",
    "df = df.withColumn('CDP', col('CDP') + calculate_discounted_net_recoveries())"
   ]
  },
  {
   "cell_type": "code",
   "execution_count": 0,
   "metadata": {
    "application/vnd.databricks.v1+cell": {
     "cellMetadata": {},
     "inputWidgets": {},
     "nuid": "6ee26c59-ccc0-4b69-8e23-addf0a7f5717",
     "showTitle": false,
     "title": ""
    }
   },
   "outputs": [],
   "source": [
    "df = df.withColumn(\n",
    "    'ROI', \n",
    "    (col('CDP') - col('funded_amnt')) \\\n",
    "    / col('funded_amnt'))"
   ]
  },
  {
   "cell_type": "markdown",
   "metadata": {
    "application/vnd.databricks.v1+cell": {
     "cellMetadata": {},
     "inputWidgets": {},
     "nuid": "b48fc8d3-7e06-4d35-bb99-90ed90b7f249",
     "showTitle": false,
     "title": ""
    }
   },
   "source": [
    "create column: IRR"
   ]
  },
  {
   "cell_type": "code",
   "execution_count": 0,
   "metadata": {
    "application/vnd.databricks.v1+cell": {
     "cellMetadata": {},
     "inputWidgets": {},
     "nuid": "ec87c938-3fa9-4cae-aceb-50f35ade7ce3",
     "showTitle": false,
     "title": ""
    }
   },
   "outputs": [],
   "source": [
    "import findspark\n",
    "findspark.init()"
   ]
  },
  {
   "cell_type": "code",
   "execution_count": 0,
   "metadata": {
    "application/vnd.databricks.v1+cell": {
     "cellMetadata": {},
     "inputWidgets": {},
     "nuid": "9b3e83e6-2883-4fdf-be6b-b27235a65c50",
     "showTitle": false,
     "title": ""
    }
   },
   "outputs": [
    {
     "output_type": "stream",
     "name": "stdout",
     "output_type": "stream",
     "text": [
      "3.5.1\n"
     ]
    }
   ],
   "source": [
    "# print version pyspark\n",
    "import pyspark\n",
    "print(pyspark.__version__)"
   ]
  },
  {
   "cell_type": "code",
   "execution_count": 0,
   "metadata": {
    "application/vnd.databricks.v1+cell": {
     "cellMetadata": {},
     "inputWidgets": {},
     "nuid": "ead655fa-87d3-4f36-a4c7-b9caa7f3a75c",
     "showTitle": false,
     "title": ""
    }
   },
   "outputs": [],
   "source": [
    "import pyspark.sql.functions as sf\n",
    "\n",
    "\n",
    "df = df.withColumn(\n",
    "    'num_mths_to_pay',\n",
    "    when(\n",
    "        (regexp_like(col('loan_status'), lit(r'(Fully)')))& \\\n",
    "        (col('issue_d') == col('last_pymnt_d')),\n",
    "        1\n",
    "    ).otherwise(col('num_mths_to_pay')))"
   ]
  },
  {
   "cell_type": "code",
   "execution_count": 0,
   "metadata": {
    "application/vnd.databricks.v1+cell": {
     "cellMetadata": {},
     "inputWidgets": {},
     "nuid": "dffaf2e1-7ffc-46d8-acb2-58a57821dfa2",
     "showTitle": false,
     "title": ""
    }
   },
   "outputs": [],
   "source": [
    "def make_list_of_cashflow(f, p, n):\n",
    "    # Cast to float\n",
    "    f = float(f)\n",
    "    p = float(p)\n",
    "    n = int(n)\n",
    "    return [-f] + [p] * n\n",
    "\n",
    "udf_make_list_of_cashflow = udf(make_list_of_cashflow, returnType=ArrayType(FloatType()))"
   ]
  },
  {
   "cell_type": "code",
   "execution_count": 0,
   "metadata": {
    "application/vnd.databricks.v1+cell": {
     "cellMetadata": {},
     "inputWidgets": {},
     "nuid": "22c72916-a46a-43bb-8925-3a696c4aee75",
     "showTitle": false,
     "title": ""
    }
   },
   "outputs": [],
   "source": [
    "# equivalently, it means \n",
    "# df.apply(lambda r: [-r['funded_amnt']] + [r['avg_pymnt']] * r['num_mths_to_pay'], axis=1)\n",
    "\n",
    "df = df.withColumn(\n",
    "    'lst_of_cf', \n",
    "    udf_make_list_of_cashflow(\n",
    "        col('funded_amnt'), \n",
    "        col('avg_pymnt'), \n",
    "        col('num_mths_to_pay')))"
   ]
  },
  {
   "cell_type": "code",
   "execution_count": 0,
   "metadata": {
    "application/vnd.databricks.v1+cell": {
     "cellMetadata": {},
     "inputWidgets": {},
     "nuid": "ca6968e1-059f-46b7-b067-8999548dd34c",
     "showTitle": false,
     "title": ""
    }
   },
   "outputs": [],
   "source": [
    "def irr(cash_flow):\n",
    "    \"\"\"\n",
    "    Calculate the Internal Rate of Return (IRR) for a given cash flow.\n",
    "\n",
    "    :param cash_flow: A list or array of cash flow values.\n",
    "    :return: The calculated IRR.\n",
    "    \"\"\"\n",
    "    cash_flow = np.array(cash_flow)\n",
    "    \n",
    "    # Check if all cash flows have the same sign\n",
    "    same_sign = np.all(cash_flow > 0) if cash_flow[0] > 0 else np.all(cash_flow < 0)\n",
    "    if same_sign:\n",
    "        if len(cash_flow) == 1 and cash_flow[0] < 0:\n",
    "            return float(-1)\n",
    "        raise ValueError(\"cash_flow must contain positive and negative values\")\n",
    "\n",
    "    # Define the coefficients of the polynomial equation\n",
    "    coeffs = cash_flow[::-1]  # Reverse the cash flow array to match the polynomial order\n",
    "\n",
    "    # Find the roots of the polynomial equation\n",
    "    roots = np.roots(coeffs)\n",
    "\n",
    "    # Filter real roots within the range (-1, 1)\n",
    "    real_roots = roots[np.isreal(roots)].real - 1\n",
    "    real_roots = real_roots[(real_roots <= 1) & (real_roots >= -1)]\n",
    "\n",
    "    # If no real solution, return NaN\n",
    "    if len(real_roots) == 0:\n",
    "        return float('nan')\n",
    "\n",
    "    # If only one real solution, return it\n",
    "    if len(real_roots) == 1:\n",
    "        return float(real_roots[0])\n",
    "\n",
    "    # Check sign of all real roots\n",
    "    same_sign = np.all(real_roots > 0) if real_roots[0] > 0 else np.all(real_roots < 0)\n",
    "    \n",
    "    # If signs are not the same, filter potential IRR by comparing the total positive and negative cash flows\n",
    "    if not same_sign:\n",
    "        pos = np.sum(cash_flow[cash_flow > 0])\n",
    "        neg = np.sum(cash_flow[cash_flow < 0])\n",
    "        real_roots = real_roots[real_roots >= 0] if pos >= neg else real_roots[real_roots < 0]\n",
    "    \n",
    "    # Pick the smallest one in magnitude and return\n",
    "    abs_IRR = np.abs(real_roots)\n",
    "    return float(real_roots[np.argmin(abs_IRR)])\n"
   ]
  },
  {
   "cell_type": "code",
   "execution_count": 0,
   "metadata": {
    "application/vnd.databricks.v1+cell": {
     "cellMetadata": {},
     "inputWidgets": {},
     "nuid": "5dce2e9a-83a7-4563-b3e2-2af378f4561e",
     "showTitle": false,
     "title": ""
    }
   },
   "outputs": [],
   "source": [
    "from pyspark.sql.types import StructType, StructField"
   ]
  },
  {
   "cell_type": "code",
   "execution_count": 0,
   "metadata": {
    "application/vnd.databricks.v1+cell": {
     "cellMetadata": {},
     "inputWidgets": {},
     "nuid": "e2865738-546a-4109-abab-224fac7fa6e3",
     "showTitle": false,
     "title": ""
    }
   },
   "outputs": [],
   "source": [
    "# Register the UDF\n",
    "calculat_irr_udf = udf(irr, returnType=FloatType())\n",
    "\n",
    "# Define the schema for the cash flow list\n",
    "cf_schema = StructType([\n",
    "    StructField('cf', ArrayType(FloatType()))\n",
    "])\n",
    "\n",
    "# Calculate the IRR for each cash flow list\n",
    "df = df.withColumn('IRR', calculat_irr_udf(col('lst_of_cf')))"
   ]
  },
  {
   "cell_type": "code",
   "execution_count": 0,
   "metadata": {
    "application/vnd.databricks.v1+cell": {
     "cellMetadata": {},
     "inputWidgets": {},
     "nuid": "98b50e87-fa1d-4f65-936c-d86ff0c801b7",
     "showTitle": false,
     "title": ""
    }
   },
   "outputs": [],
   "source": [
    "# replace NaN with 0 in IRR column\n",
    "df = df.na.fill(0, subset=['IRR'])"
   ]
  },
  {
   "cell_type": "markdown",
   "metadata": {
    "application/vnd.databricks.v1+cell": {
     "cellMetadata": {},
     "inputWidgets": {},
     "nuid": "951f0b68-021b-4916-9693-480ecd49e47d",
     "showTitle": false,
     "title": ""
    }
   },
   "source": [
    "drop irrelevant columns"
   ]
  },
  {
   "cell_type": "code",
   "execution_count": 0,
   "metadata": {
    "application/vnd.databricks.v1+cell": {
     "cellMetadata": {},
     "inputWidgets": {},
     "nuid": "112cb209-7f48-4d20-ad6b-e0dbdc2afc5a",
     "showTitle": false,
     "title": ""
    }
   },
   "outputs": [],
   "source": [
    "to_drop = [\n",
    "    col for col in df.columns if \n",
    "        ('hardship' in col and 'hardship_flag' != col) or \n",
    "        ('mths_since_' in col and '_binary' not in col) or \n",
    "        ('sec_app' in col) or \n",
    "        ('joint' in col)\n",
    "        \n",
    "] + [\n",
    "    'orig_projected_additional_accrued_interest', \n",
    "    'payment_plan_start_date', 'pymnt_plan',\n",
    "    'issue_d_year', 'policy_code',\n",
    "    'next_pymnt_d', 'earliest_cr_line',\n",
    "    'url', 'last_credit_pull_d', 'last_pymnt_d'\n",
    "    \n",
    "] + mths_since_to_drop + [\n",
    "    'lst_of_cf', 'cdf', 'CDP', 'is_matured_loan'\n",
    "]"
   ]
  },
  {
   "cell_type": "code",
   "execution_count": 0,
   "metadata": {
    "application/vnd.databricks.v1+cell": {
     "cellMetadata": {},
     "inputWidgets": {},
     "nuid": "977f1438-1d17-4923-96de-888ff660b08a",
     "showTitle": false,
     "title": ""
    }
   },
   "outputs": [],
   "source": [
    "df = df.drop(*to_drop)"
   ]
  },
  {
   "cell_type": "markdown",
   "metadata": {
    "application/vnd.databricks.v1+cell": {
     "cellMetadata": {},
     "inputWidgets": {},
     "nuid": "14ebe1e1-b6b3-4c5b-986a-7b7d10eae251",
     "showTitle": false,
     "title": ""
    }
   },
   "source": [
    "check na count \n",
    "- tried: count can run so long. so i collect it back work as a chkpt and turn it back to df (failed)\n",
    "    - potential reason: can't handle such a large list"
   ]
  },
  {
   "cell_type": "markdown",
   "metadata": {
    "application/vnd.databricks.v1+cell": {
     "cellMetadata": {},
     "inputWidgets": {},
     "nuid": "13c42db8-ad10-45f5-bd6d-9b143da2c444",
     "showTitle": false,
     "title": ""
    }
   },
   "source": [
    "binning"
   ]
  },
  {
   "cell_type": "code",
   "execution_count": 0,
   "metadata": {
    "application/vnd.databricks.v1+cell": {
     "cellMetadata": {},
     "inputWidgets": {},
     "nuid": "ed49cfa6-cd25-4d08-8537-9a56ecb69c62",
     "showTitle": false,
     "title": ""
    }
   },
   "outputs": [],
   "source": [
    "def binning_int_rate(int_rate):\n",
    "    if int_rate < 10:\n",
    "        return 'less than 10%'\n",
    "    for i in range(2, 6):\n",
    "        if i*5 <= int_rate and (i+1)*5 > int_rate:\n",
    "            return f'within {i*5}% and {i*5+5}%'\n",
    "    return 'greater than or equal to 30%'\n",
    "\n",
    "udf_binning_int_rate = udf(binning_int_rate)"
   ]
  },
  {
   "cell_type": "code",
   "execution_count": 0,
   "metadata": {
    "application/vnd.databricks.v1+cell": {
     "cellMetadata": {},
     "inputWidgets": {},
     "nuid": "ad7f12b3-9d00-4e27-857c-7dbf6d9b2c9d",
     "showTitle": false,
     "title": ""
    }
   },
   "outputs": [],
   "source": [
    "df = df.withColumn('int_rate_bin', udf_binning_int_rate(col('int_rate')))"
   ]
  },
  {
   "cell_type": "code",
   "execution_count": 0,
   "metadata": {
    "application/vnd.databricks.v1+cell": {
     "cellMetadata": {},
     "inputWidgets": {},
     "nuid": "4591618b-ea81-4d99-9a41-f151f92c56fc",
     "showTitle": false,
     "title": ""
    }
   },
   "outputs": [],
   "source": [
    "def binning_income(income):\n",
    "    # Cast to int\n",
    "    income = float(income)\n",
    "    if income < 20000:\n",
    "        return 'less than 20k'\n",
    "    for i in range(2, 16):\n",
    "        if i*10000 <= income and (i+1)*10000 > income:\n",
    "            return f'within {i*10}k and {(i+1)*10}k'\n",
    "    return f'greater than or equal to {(i+1)*10}k'\n",
    "\n",
    "udf_binning_income = udf(binning_income)"
   ]
  },
  {
   "cell_type": "code",
   "execution_count": 0,
   "metadata": {
    "application/vnd.databricks.v1+cell": {
     "cellMetadata": {},
     "inputWidgets": {},
     "nuid": "7b9f4a39-bdca-4d42-97af-b41e37bfcac5",
     "showTitle": false,
     "title": ""
    }
   },
   "outputs": [],
   "source": [
    "df = df.withColumn('annual_inc_bin', udf_binning_income(col('annual_inc')))"
   ]
  },
  {
   "cell_type": "code",
   "execution_count": 0,
   "metadata": {
    "application/vnd.databricks.v1+cell": {
     "cellMetadata": {},
     "inputWidgets": {},
     "nuid": "5dd00330-c722-43d8-9d3e-9fce4ef9ad84",
     "showTitle": false,
     "title": ""
    }
   },
   "outputs": [],
   "source": [
    "def binning_dti(dti):\n",
    "    # Cast to float\n",
    "    dti = float(dti)\n",
    "    if dti < 10:\n",
    "        return 'less than 10'\n",
    "    for i in range(1, 10):\n",
    "        if i*10 <= dti and (i+1)*10 > dti:\n",
    "            return f'within {i*10} and {(i+1)*10}'\n",
    "    return 'greater than or equal to 100'\n",
    "\n",
    "udf_binning_dti = udf(binning_dti)"
   ]
  },
  {
   "cell_type": "code",
   "execution_count": 0,
   "metadata": {
    "application/vnd.databricks.v1+cell": {
     "cellMetadata": {},
     "inputWidgets": {},
     "nuid": "8111d9e7-cca4-4f9b-9568-df93fd077637",
     "showTitle": false,
     "title": ""
    }
   },
   "outputs": [],
   "source": [
    "df = df.withColumn('dti_bin', udf_binning_dti(col('dti')))"
   ]
  },
  {
   "cell_type": "code",
   "execution_count": 0,
   "metadata": {
    "application/vnd.databricks.v1+cell": {
     "cellMetadata": {},
     "inputWidgets": {},
     "nuid": "53dcc28e-9a43-4d22-ae20-1b2b3b4ab206",
     "showTitle": false,
     "title": ""
    }
   },
   "outputs": [],
   "source": [
    "def binning_fico_score(fico_range_low, fico_range_high):\n",
    "    # Binning from 660 - 700, 701 - 750, 751 - 800, 801 - 850\n",
    "    # Cast to float\n",
    "    fico_range_low = float(fico_range_low)\n",
    "    fico_range_high = float(fico_range_high)\n",
    "    fico = (fico_range_low + fico_range_high) / 2\n",
    "    if fico < 700:\n",
    "        return '660 - 700'\n",
    "    if fico < 750:\n",
    "        return '701 - 750'\n",
    "    if fico < 800:\n",
    "        return '751 - 800'\n",
    "    return '801 - 850'\n",
    "\n",
    "\n",
    "udf_binning_fico_score = udf(binning_fico_score)"
   ]
  },
  {
   "cell_type": "code",
   "execution_count": 0,
   "metadata": {
    "application/vnd.databricks.v1+cell": {
     "cellMetadata": {},
     "inputWidgets": {},
     "nuid": "02738928-d980-495a-9987-c147f5566da1",
     "showTitle": false,
     "title": ""
    }
   },
   "outputs": [],
   "source": [
    "df = df.withColumn(\n",
    "    'fico_score_bin',\n",
    "    udf_binning_fico_score(col('fico_range_low'), col('fico_range_high')))"
   ]
  },
  {
   "cell_type": "markdown",
   "metadata": {
    "application/vnd.databricks.v1+cell": {
     "cellMetadata": {},
     "inputWidgets": {},
     "nuid": "c41c1274-3322-40ca-bab1-8942d169d125",
     "showTitle": false,
     "title": ""
    }
   },
   "source": [
    "load to local and save as csv"
   ]
  },
  {
   "cell_type": "code",
   "execution_count": 0,
   "metadata": {
    "application/vnd.databricks.v1+cell": {
     "cellMetadata": {},
     "inputWidgets": {},
     "nuid": "58d049f1-5ee5-4831-9918-78686cfdfb7b",
     "showTitle": false,
     "title": ""
    },
    "scrolled": true
   },
   "outputs": [
    {
     "output_type": "stream",
     "name": "stdout",
     "output_type": "stream",
     "text": [
      "== Physical Plan ==\nProject (11)\n+- BatchEvalPython (10)\n   +- Project (9)\n      +- Project (8)\n         +- BatchEvalPython (7)\n            +- Project (6)\n               +- Project (5)\n                  +- * Project (4)\n                     +- * Project (3)\n                        +- * Filter (2)\n                           +- Scan csv  (1)\n\n\n(1) Scan csv \nOutput [97]: [_c0#68014, id#68015, loan_amnt#68016, funded_amnt#68017, funded_amnt_inv#68018, term#68019, int_rate#68020, installment#68021, grade#68022, sub_grade#68023, emp_title#68024, emp_length#68025, home_ownership#68026, annual_inc#68027, verification_status#68028, issue_d#68029, loan_status#68030, purpose#68033, title#68034, zip_code#68035, addr_state#68036, dti#68037, delinq_2yrs#68038, fico_range_low#68040, fico_range_high#68041, inq_last_6mths#68042, open_acc#68045, pub_rec#68046, revol_bal#68047, revol_util#68048, total_acc#68049, initial_list_status#68050, out_prncp#68051, out_prncp_inv#68052, total_pymnt#68053, total_pymnt_inv#68054, total_rec_prncp#68055, total_rec_int#68056, total_rec_late_fee#68057, recoveries#68058, collection_recovery_fee#68059, last_pymnt_d#68060, last_pymnt_amnt#68061, next_pymnt_d#68062, last_fico_range_high#68064, last_fico_range_low#68065, collections_12_mths_ex_med#68066, application_type#68069, acc_now_delinq#68073, tot_coll_amt#68074, tot_cur_bal#68075, open_acc_6m#68076, open_act_il#68077, open_il_12m#68078, open_il_24m#68079, total_bal_il#68081, il_util#68082, open_rv_12m#68083, open_rv_24m#68084, max_bal_bc#68085, all_util#68086, total_rev_hi_lim#68087, inq_fi#68088, total_cu_tl#68089, inq_last_12m#68090, acc_open_past_24mths#68091, avg_cur_bal#68092, bc_open_to_buy#68093, bc_util#68094, chargeoff_within_12_mths#68095, delinq_amnt#68096, mort_acc#68101, num_accts_ever_120_pd#68106, num_actv_bc_tl#68107, num_actv_rev_tl#68108, num_bc_sats#68109, num_bc_tl#68110, num_il_tl#68111, num_op_rev_tl#68112, num_rev_accts#68113, num_rev_tl_bal_gt_0#68114, num_sats#68115, num_tl_120dpd_2m#68116, num_tl_30dpd#68117, num_tl_90g_dpd_24m#68118, num_tl_op_past_12m#68119, pct_tl_nvr_dlq#68120, percent_bc_gt_75#68121, pub_rec_bankruptcies#68122, tax_liens#68123, tot_hi_cred_lim#68124, total_bal_ex_mort#68125, total_bc_limit#68126, total_il_high_credit_limit#68127, hardship_flag#68140, deferral_term#68144, debt_settlement_flag#68155]\nBatched: false\nLocation: InMemoryFileIndex [file:/e:/Study/Nam-3/HK6/IS402-DienToanDamMay/.Important-Đồ Án/Loan_status_2007-2020Q3.gzip/Loan_status_2007-2020Q3.csv]\nReadSchema: struct<_c0:int,id:string,loan_amnt:int,funded_amnt:int,funded_amnt_inv:double,term:string,int_rate:string,installment:double,grade:string,sub_grade:string,emp_title:string,emp_length:string,home_ownership:string,annual_inc:string,verification_status:string,issue_d:string,loan_status:string,purpose:string,title:string,zip_code:string,addr_state:string,dti:string,delinq_2yrs:double,fico_range_low:string,fico_range_high:int,inq_last_6mths:int,open_acc:int,pub_rec:int,revol_bal:int,revol_util:string,total_acc:string,initial_list_status:string,out_prncp:string,out_prncp_inv:double,total_pymnt:double,total_pymnt_inv:double,total_rec_prncp:double,total_rec_int:double,total_rec_late_fee:double,recoveries:double,collection_recovery_fee:double,last_pymnt_d:string,last_pymnt_amnt:string,next_pymnt_d:string,last_fico_range_high:string,last_fico_range_low:int,collections_12_mths_ex_med:int,application_type:string,acc_now_delinq:int,tot_coll_amt:int,tot_cur_bal:int,open_acc_6m:int,open_act_il:int,open_il_12m:int,open_il_24m:int,total_bal_il:int,il_util:int,open_rv_12m:int,open_rv_24m:int,max_bal_bc:int,all_util:int,total_rev_hi_lim:int,inq_fi:int,total_cu_tl:int,inq_last_12m:int,acc_open_past_24mths:int,avg_cur_bal:int,bc_open_to_buy:int,bc_util:double,chargeoff_within_12_mths:double,delinq_amnt:int,mort_acc:int,num_accts_ever_120_pd:int,num_actv_bc_tl:int,num_actv_rev_tl:int,num_bc_sats:int,num_bc_tl:int,num_il_tl:int,num_op_rev_tl:int,num_rev_accts:int,num_rev_tl_bal_gt_0:int,num_sats:int,num_tl_120dpd_2m:int,num_tl_30dpd:int,num_tl_90g_dpd_24m:int,num_tl_op_past_12m:int,pct_tl_nvr_dlq:double,percent_bc_gt_75:double,pub_rec_bankruptcies:int,tax_liens:int,tot_hi_cred_lim:int,total_bal_ex_mort:int,total_bc_limit:int,total_il_high_credit_limit:int,hardship_flag:string,deferral_term:int,debt_settlement_flag:string>\n\n(2) Filter [codegen id : 1]\nInput [97]: [_c0#68014, id#68015, loan_amnt#68016, funded_amnt#68017, funded_amnt_inv#68018, term#68019, int_rate#68020, installment#68021, grade#68022, sub_grade#68023, emp_title#68024, emp_length#68025, home_ownership#68026, annual_inc#68027, verification_status#68028, issue_d#68029, loan_status#68030, purpose#68033, title#68034, zip_code#68035, addr_state#68036, dti#68037, delinq_2yrs#68038, fico_range_low#68040, fico_range_high#68041, inq_last_6mths#68042, open_acc#68045, pub_rec#68046, revol_bal#68047, revol_util#68048, total_acc#68049, initial_list_status#68050, out_prncp#68051, out_prncp_inv#68052, total_pymnt#68053, total_pymnt_inv#68054, total_rec_prncp#68055, total_rec_int#68056, total_rec_late_fee#68057, recoveries#68058, collection_recovery_fee#68059, last_pymnt_d#68060, last_pymnt_amnt#68061, next_pymnt_d#68062, last_fico_range_high#68064, last_fico_range_low#68065, collections_12_mths_ex_med#68066, application_type#68069, acc_now_delinq#68073, tot_coll_amt#68074, tot_cur_bal#68075, open_acc_6m#68076, open_act_il#68077, open_il_12m#68078, open_il_24m#68079, total_bal_il#68081, il_util#68082, open_rv_12m#68083, open_rv_24m#68084, max_bal_bc#68085, all_util#68086, total_rev_hi_lim#68087, inq_fi#68088, total_cu_tl#68089, inq_last_12m#68090, acc_open_past_24mths#68091, avg_cur_bal#68092, bc_open_to_buy#68093, bc_util#68094, chargeoff_within_12_mths#68095, delinq_amnt#68096, mort_acc#68101, num_accts_ever_120_pd#68106, num_actv_bc_tl#68107, num_actv_rev_tl#68108, num_bc_sats#68109, num_bc_tl#68110, num_il_tl#68111, num_op_rev_tl#68112, num_rev_accts#68113, num_rev_tl_bal_gt_0#68114, num_sats#68115, num_tl_120dpd_2m#68116, num_tl_30dpd#68117, num_tl_90g_dpd_24m#68118, num_tl_op_past_12m#68119, pct_tl_nvr_dlq#68120, percent_bc_gt_75#68121, pub_rec_bankruptcies#68122, tax_liens#68123, tot_hi_cred_lim#68124, total_bal_ex_mort#68125, total_bc_limit#68126, total_il_high_credit_limit#68127, hardship_flag#68140, deferral_term#68144, debt_settlement_flag#68155]\nCondition : ((year(cast(gettimestamp(issue_d#68029, MMM-yyyy, TimestampType, Some(Asia/Saigon), false) as date)) > 2012) AND isnull(cast(gettimestamp(next_pymnt_d#68062, MMM-yyyy, TimestampType, Some(Asia/Saigon), false) as date)))\n\n(3) Project [codegen id : 1]\nOutput [96]: [_c0#68014, id#68015, loan_amnt#68016, funded_amnt#68017, funded_amnt_inv#68018, term#68019, cast(regexp_extract(int_rate#68020, (\\d+\\.\\d+), 1) as float) AS int_rate#71461, installment#68021, grade#68022, sub_grade#68023, emp_title#68024, emp_length#68025, home_ownership#68026, annual_inc#68027, verification_status#68028, cast(gettimestamp(issue_d#68029, MMM-yyyy, TimestampType, Some(Asia/Saigon), false) as date) AS issue_d#70174, loan_status#68030, purpose#68033, title#68034, zip_code#68035, addr_state#68036, cast(dti#68037 as float) AS dti#73481, delinq_2yrs#68038, fico_range_low#68040, fico_range_high#68041, inq_last_6mths#68042, open_acc#68045, pub_rec#68046, revol_bal#68047, cast(regexp_extract(revol_util#68048, (\\d+\\.\\d+), 1) as float) AS revol_util#71607, total_acc#68049, initial_list_status#68050, out_prncp#68051, out_prncp_inv#68052, total_pymnt#68053, total_pymnt_inv#68054, total_rec_prncp#68055, total_rec_int#68056, total_rec_late_fee#68057, recoveries#68058, collection_recovery_fee#68059, cast(gettimestamp(last_pymnt_d#68060, MMM-yyyy, TimestampType, Some(Asia/Saigon), false) as date) AS last_pymnt_d#70460, last_pymnt_amnt#68061, last_fico_range_high#68064, last_fico_range_low#68065, collections_12_mths_ex_med#68066, application_type#68069, acc_now_delinq#68073, tot_coll_amt#68074, tot_cur_bal#68075, open_acc_6m#68076, open_act_il#68077, open_il_12m#68078, open_il_24m#68079, total_bal_il#68081, il_util#68082, open_rv_12m#68083, open_rv_24m#68084, max_bal_bc#68085, all_util#68086, total_rev_hi_lim#68087, inq_fi#68088, total_cu_tl#68089, inq_last_12m#68090, acc_open_past_24mths#68091, avg_cur_bal#68092, bc_open_to_buy#68093, bc_util#68094, chargeoff_within_12_mths#68095, delinq_amnt#68096, mort_acc#68101, num_accts_ever_120_pd#68106, num_actv_bc_tl#68107, num_actv_rev_tl#68108, num_bc_sats#68109, num_bc_tl#68110, num_il_tl#68111, num_op_rev_tl#68112, num_rev_accts#68113, num_rev_tl_bal_gt_0#68114, num_sats#68115, num_tl_120dpd_2m#68116, num_tl_30dpd#68117, num_tl_90g_dpd_24m#68118, num_tl_op_past_12m#68119, pct_tl_nvr_dlq#68120 AS percent_tl_nvr_deliq#69740, percent_bc_gt_75#68121, pub_rec_bankruptcies#68122, tax_liens#68123, tot_hi_cred_lim#68124, total_bal_ex_mort#68125, total_bc_limit#68126, total_il_high_credit_limit#68127, hardship_flag#68140, CASE WHEN isnull(deferral_term#68144) THEN 0 ELSE deferral_term#68144 END AS deferral_term#73337, debt_settlement_flag#68155]\nInput [97]: [_c0#68014, id#68015, loan_amnt#68016, funded_amnt#68017, funded_amnt_inv#68018, term#68019, int_rate#68020, installment#68021, grade#68022, sub_grade#68023, emp_title#68024, emp_length#68025, home_ownership#68026, annual_inc#68027, verification_status#68028, issue_d#68029, loan_status#68030, purpose#68033, title#68034, zip_code#68035, addr_state#68036, dti#68037, delinq_2yrs#68038, fico_range_low#68040, fico_range_high#68041, inq_last_6mths#68042, open_acc#68045, pub_rec#68046, revol_bal#68047, revol_util#68048, total_acc#68049, initial_list_status#68050, out_prncp#68051, out_prncp_inv#68052, total_pymnt#68053, total_pymnt_inv#68054, total_rec_prncp#68055, total_rec_int#68056, total_rec_late_fee#68057, recoveries#68058, collection_recovery_fee#68059, last_pymnt_d#68060, last_pymnt_amnt#68061, next_pymnt_d#68062, last_fico_range_high#68064, last_fico_range_low#68065, collections_12_mths_ex_med#68066, application_type#68069, acc_now_delinq#68073, tot_coll_amt#68074, tot_cur_bal#68075, open_acc_6m#68076, open_act_il#68077, open_il_12m#68078, open_il_24m#68079, total_bal_il#68081, il_util#68082, open_rv_12m#68083, open_rv_24m#68084, max_bal_bc#68085, all_util#68086, total_rev_hi_lim#68087, inq_fi#68088, total_cu_tl#68089, inq_last_12m#68090, acc_open_past_24mths#68091, avg_cur_bal#68092, bc_open_to_buy#68093, bc_util#68094, chargeoff_within_12_mths#68095, delinq_amnt#68096, mort_acc#68101, num_accts_ever_120_pd#68106, num_actv_bc_tl#68107, num_actv_rev_tl#68108, num_bc_sats#68109, num_bc_tl#68110, num_il_tl#68111, num_op_rev_tl#68112, num_rev_accts#68113, num_rev_tl_bal_gt_0#68114, num_sats#68115, num_tl_120dpd_2m#68116, num_tl_30dpd#68117, num_tl_90g_dpd_24m#68118, num_tl_op_past_12m#68119, pct_tl_nvr_dlq#68120, percent_bc_gt_75#68121, pub_rec_bankruptcies#68122, tax_liens#68123, tot_hi_cred_lim#68124, total_bal_ex_mort#68125, total_bc_limit#68126, total_il_high_credit_limit#68127, hardship_flag#68140, deferral_term#68144, debt_settlement_flag#68155]\n\n(4) Project [codegen id : 1]\nOutput [100]: [_c0#68014, id#68015, loan_amnt#68016, funded_amnt#68017, funded_amnt_inv#68018, term#68019, int_rate#71461, installment#68021, grade#68022, sub_grade#68023, CASE WHEN isnull(emp_title#68024) THEN Unknown ELSE emp_title#68024 END AS emp_title#75619, CASE WHEN isnull(emp_length#68025) THEN < 1 year ELSE emp_length#68025 END AS emp_length#74761, home_ownership#68026, annual_inc#68027, verification_status#68028, issue_d#70174, loan_status#68030, CASE WHEN isnull(purpose#68033) THEN Unknown ELSE purpose#68033 END AS purpose#75907, CASE WHEN isnull(title#68034) THEN Unknown ELSE title#68034 END AS title#75763, CASE WHEN isnull(zip_code#68035) THEN 220xx ELSE zip_code#68035 END AS zip_code#75118, addr_state#68036, CASE WHEN isnull(cast(dti#73481 as double)) THEN 18.743622 WHEN (dti#73481 = NaN) THEN 18.743622 ELSE cast(cast(dti#73481 as double) as float) END AS dti#73827, delinq_2yrs#68038, fico_range_low#68040, fico_range_high#68041, CASE WHEN isnull(cast(inq_last_6mths#68042 as double)) THEN 0 ELSE cast(cast(inq_last_6mths#68042 as double) as int) END AS inq_last_6mths#74250, open_acc#68045, pub_rec#68046, revol_bal#68047, CASE WHEN isnull(cast(revol_util#71607 as double)) THEN 50.179886 WHEN (revol_util#71607 = NaN) THEN 50.179886 ELSE cast(cast(revol_util#71607 as double) as float) END AS revol_util#73828, total_acc#68049, initial_list_status#68050, out_prncp#68051, out_prncp_inv#68052, total_pymnt#68053, total_pymnt_inv#68054, total_rec_prncp#68055, total_rec_int#68056, total_rec_late_fee#68057, recoveries#68058, collection_recovery_fee#68059, last_pymnt_d#70460, last_pymnt_amnt#68061, last_fico_range_high#68064, last_fico_range_low#68065, collections_12_mths_ex_med#68066, application_type#68069, acc_now_delinq#68073, tot_coll_amt#68074, tot_cur_bal#68075, CASE WHEN isnull(cast(open_acc_6m#68076 as double)) THEN 0 ELSE cast(cast(open_acc_6m#68076 as double) as int) END AS open_acc_6m#74251, CASE WHEN isnull(cast(open_act_il#68077 as double)) THEN 1 ELSE cast(cast(open_act_il#68077 as double) as int) END AS open_act_il#74252, CASE WHEN isnull(cast(open_il_12m#68078 as double)) THEN 0 ELSE cast(cast(open_il_12m#68078 as double) as int) END AS open_il_12m#74253, CASE WHEN isnull(cast(open_il_24m#68079 as double)) THEN 1 ELSE cast(cast(open_il_24m#68079 as double) as int) END AS open_il_24m#74254, CASE WHEN isnull(cast(total_bal_il#68081 as double)) THEN 35806 ELSE cast(cast(total_bal_il#68081 as double) as int) END AS total_bal_il#73829, CASE WHEN isnull(cast(il_util#68082 as double)) THEN 70 ELSE cast(cast(il_util#68082 as double) as int) END AS il_util#73830, CASE WHEN isnull(cast(open_rv_12m#68083 as double)) THEN 0 ELSE cast(cast(open_rv_12m#68083 as double) as int) END AS open_rv_12m#74255, CASE WHEN isnull(cast(open_rv_24m#68084 as double)) THEN 1 ELSE cast(cast(open_rv_24m#68084 as double) as int) END AS open_rv_24m#74256, CASE WHEN isnull(cast(max_bal_bc#68085 as double)) THEN 5605 ELSE cast(cast(max_bal_bc#68085 as double) as int) END AS max_bal_bc#73831, CASE WHEN isnull(cast(all_util#68086 as double)) THEN 57 ELSE cast(cast(all_util#68086 as double) as int) END AS all_util#73832, total_rev_hi_lim#68087, CASE WHEN isnull(cast(inq_fi#68088 as double)) THEN 0 ELSE cast(cast(inq_fi#68088 as double) as int) END AS inq_fi#74257, CASE WHEN isnull(cast(total_cu_tl#68089 as double)) THEN 0 ELSE cast(cast(total_cu_tl#68089 as double) as int) END AS total_cu_tl#74258, CASE WHEN isnull(cast(inq_last_12m#68090 as double)) THEN 0 ELSE cast(cast(inq_last_12m#68090 as double) as int) END AS inq_last_12m#74259, acc_open_past_24mths#68091, CASE WHEN isnull(cast(avg_cur_bal#68092 as double)) THEN 13593 ELSE cast(cast(avg_cur_bal#68092 as double) as int) END AS avg_cur_bal#73833, CASE WHEN isnull(cast(bc_open_to_buy#68093 as double)) THEN 11139 ELSE cast(cast(bc_open_to_buy#68093 as double) as int) END AS bc_open_to_buy#73834, CASE WHEN isnull(bc_util#68094) THEN 57.94700799540027 WHEN (bc_util#68094 = NaN) THEN 57.94700799540027 ELSE bc_util#68094 END AS bc_util#73835, chargeoff_within_12_mths#68095, delinq_amnt#68096, mort_acc#68101, num_accts_ever_120_pd#68106, num_actv_bc_tl#68107, num_actv_rev_tl#68108, num_bc_sats#68109, num_bc_tl#68110, num_il_tl#68111, num_op_rev_tl#68112, CASE WHEN isnull(cast(num_rev_accts#68113 as double)) THEN 10 ELSE cast(cast(num_rev_accts#68113 as double) as int) END AS num_rev_accts#74260, num_rev_tl_bal_gt_0#68114, num_sats#68115, CASE WHEN isnull(cast(num_tl_120dpd_2m#68116 as double)) THEN 0 ELSE cast(cast(num_tl_120dpd_2m#68116 as double) as int) END AS num_tl_120dpd_2m#74261, num_tl_30dpd#68117, num_tl_90g_dpd_24m#68118, num_tl_op_past_12m#68119, CASE WHEN isnull(percent_tl_nvr_deliq#69740) THEN 94.1207717160412 WHEN (percent_tl_nvr_deliq#69740 = NaN) THEN 94.1207717160412 ELSE percent_tl_nvr_deliq#69740 END AS percent_tl_nvr_deliq#73836, CASE WHEN isnull(percent_bc_gt_75#68121) THEN 42.7488749383152 WHEN (percent_bc_gt_75#68121 = NaN) THEN 42.7488749383152 ELSE percent_bc_gt_75#68121 END AS percent_bc_gt_75#73837, pub_rec_bankruptcies#68122, tax_liens#68123, tot_hi_cred_lim#68124, total_bal_ex_mort#68125, total_bc_limit#68126, total_il_high_credit_limit#68127, CASE WHEN isnull(hardship_flag#68140) THEN N ELSE hardship_flag#68140 END AS hardship_flag#75475, deferral_term#73337, debt_settlement_flag#68155, (cast(loan_amnt#68016 as double) / (cast(annual_inc#68027 as double) + 1.0)) AS loan_amnt_to_annual_inc#76051, (cast(delinq_amnt#68096 as double) / (cast(annual_inc#68027 as double) + 1.0)) AS delinq_amnt_to_annual_inc#76196, (cast(revol_bal#68047 as double) / (cast(annual_inc#68027 as double) + 1.0)) AS revol_bal_to_annual_inc#76342, (cast(tot_cur_bal#68075 as double) / (cast(annual_inc#68027 as double) + 1.0)) AS tot_cur_bal_to_annual_inc#76489]\nInput [96]: [_c0#68014, id#68015, loan_amnt#68016, funded_amnt#68017, funded_amnt_inv#68018, term#68019, int_rate#71461, installment#68021, grade#68022, sub_grade#68023, emp_title#68024, emp_length#68025, home_ownership#68026, annual_inc#68027, verification_status#68028, issue_d#70174, loan_status#68030, purpose#68033, title#68034, zip_code#68035, addr_state#68036, dti#73481, delinq_2yrs#68038, fico_range_low#68040, fico_range_high#68041, inq_last_6mths#68042, open_acc#68045, pub_rec#68046, revol_bal#68047, revol_util#71607, total_acc#68049, initial_list_status#68050, out_prncp#68051, out_prncp_inv#68052, total_pymnt#68053, total_pymnt_inv#68054, total_rec_prncp#68055, total_rec_int#68056, total_rec_late_fee#68057, recoveries#68058, collection_recovery_fee#68059, last_pymnt_d#70460, last_pymnt_amnt#68061, last_fico_range_high#68064, last_fico_range_low#68065, collections_12_mths_ex_med#68066, application_type#68069, acc_now_delinq#68073, tot_coll_amt#68074, tot_cur_bal#68075, open_acc_6m#68076, open_act_il#68077, open_il_12m#68078, open_il_24m#68079, total_bal_il#68081, il_util#68082, open_rv_12m#68083, open_rv_24m#68084, max_bal_bc#68085, all_util#68086, total_rev_hi_lim#68087, inq_fi#68088, total_cu_tl#68089, inq_last_12m#68090, acc_open_past_24mths#68091, avg_cur_bal#68092, bc_open_to_buy#68093, bc_util#68094, chargeoff_within_12_mths#68095, delinq_amnt#68096, mort_acc#68101, num_accts_ever_120_pd#68106, num_actv_bc_tl#68107, num_actv_rev_tl#68108, num_bc_sats#68109, num_bc_tl#68110, num_il_tl#68111, num_op_rev_tl#68112, num_rev_accts#68113, num_rev_tl_bal_gt_0#68114, num_sats#68115, num_tl_120dpd_2m#68116, num_tl_30dpd#68117, num_tl_90g_dpd_24m#68118, num_tl_op_past_12m#68119, percent_tl_nvr_deliq#69740, percent_bc_gt_75#68121, pub_rec_bankruptcies#68122, tax_liens#68123, tot_hi_cred_lim#68124, total_bal_ex_mort#68125, total_bc_limit#68126, total_il_high_credit_limit#68127, hardship_flag#68140, deferral_term#73337, debt_settlement_flag#68155]\n\n(5) Project\nOutput [106]: [_c0#68014, id#68015, loan_amnt#68016, funded_amnt#68017, funded_amnt_inv#68018, term#68019, int_rate#71461, installment#68021, grade#68022, sub_grade#68023, emp_title#75619, emp_length#74761, home_ownership#68026, annual_inc#68027, verification_status#68028, issue_d#70174, loan_status#68030, purpose#75907, title#75763, zip_code#75118, addr_state#68036, dti#73827, delinq_2yrs#68038, fico_range_low#68040, fico_range_high#68041, inq_last_6mths#74250, open_acc#68045, pub_rec#68046, revol_bal#68047, revol_util#73828, total_acc#68049, initial_list_status#68050, out_prncp#68051, out_prncp_inv#68052, total_pymnt#68053, total_pymnt_inv#68054, total_rec_prncp#68055, total_rec_int#68056, total_rec_late_fee#68057, recoveries#68058, collection_recovery_fee#68059, last_pymnt_d#70460, last_pymnt_amnt#68061, last_fico_range_high#68064, last_fico_range_low#68065, collections_12_mths_ex_med#68066, application_type#68069, acc_now_delinq#68073, tot_coll_amt#68074, tot_cur_bal#68075, open_acc_6m#74251, open_act_il#74252, open_il_12m#74253, open_il_24m#74254, total_bal_il#73829, il_util#73830, open_rv_12m#74255, open_rv_24m#74256, max_bal_bc#73831, all_util#73832, total_rev_hi_lim#68087, inq_fi#74257, total_cu_tl#74258, inq_last_12m#74259, acc_open_past_24mths#68091, avg_cur_bal#73833, bc_open_to_buy#73834, bc_util#73835, chargeoff_within_12_mths#68095, delinq_amnt#68096, mort_acc#68101, num_accts_ever_120_pd#68106, num_actv_bc_tl#68107, num_actv_rev_tl#68108, num_bc_sats#68109, num_bc_tl#68110, num_il_tl#68111, num_op_rev_tl#68112, num_rev_accts#74260, num_rev_tl_bal_gt_0#68114, num_sats#68115, num_tl_120dpd_2m#74261, num_tl_30dpd#68117, num_tl_90g_dpd_24m#68118, num_tl_op_past_12m#68119, percent_tl_nvr_deliq#73836, percent_bc_gt_75#73837, pub_rec_bankruptcies#68122, tax_liens#68123, tot_hi_cred_lim#68124, total_bal_ex_mort#68125, total_bc_limit#68126, total_il_high_credit_limit#68127, hardship_flag#75475, deferral_term#73337, debt_settlement_flag#68155, loan_amnt_to_annual_inc#76051, delinq_amnt_to_annual_inc#76196, revol_bal_to_annual_inc#76342, tot_cur_bal_to_annual_inc#76489, (cast(max_bal_bc#73831 as double) / (cast(annual_inc#68027 as double) + 1.0)) AS max_bal_bc_to_annual_inc#76637, (cast(avg_cur_bal#73833 as double) / (cast(annual_inc#68027 as double) + 1.0)) AS avg_cur_bal_to_annual_inc#76786, (cast(total_bal_ex_mort#68125 as double) / (cast(annual_inc#68027 as double) + 1.0)) AS total_bal_ex_mort_to_annual_inc#76936, (cast(open_acc#68045 as double) / cast(total_acc#68049 as double)) AS open_cl_ratio#77087, cast(CASE WHEN isnull(last_pymnt_d#70460) THEN CASE WHEN (total_pymnt#68053 > 0.0) THEN (total_pymnt#68053 / installment#68021) ELSE 0.0 END ELSE cast(((((year(last_pymnt_d#70460) - year(issue_d#70174)) * 12) + month(last_pymnt_d#70460)) - month(issue_d#70174)) as double) END as int) AS num_mths_to_pay#77392, cast(regexp_extract(term#68019, (\\d\\d), 1) as int) AS term_int#77545]\nInput [100]: [_c0#68014, id#68015, loan_amnt#68016, funded_amnt#68017, funded_amnt_inv#68018, term#68019, int_rate#71461, installment#68021, grade#68022, sub_grade#68023, emp_title#75619, emp_length#74761, home_ownership#68026, annual_inc#68027, verification_status#68028, issue_d#70174, loan_status#68030, purpose#75907, title#75763, zip_code#75118, addr_state#68036, dti#73827, delinq_2yrs#68038, fico_range_low#68040, fico_range_high#68041, inq_last_6mths#74250, open_acc#68045, pub_rec#68046, revol_bal#68047, revol_util#73828, total_acc#68049, initial_list_status#68050, out_prncp#68051, out_prncp_inv#68052, total_pymnt#68053, total_pymnt_inv#68054, total_rec_prncp#68055, total_rec_int#68056, total_rec_late_fee#68057, recoveries#68058, collection_recovery_fee#68059, last_pymnt_d#70460, last_pymnt_amnt#68061, last_fico_range_high#68064, last_fico_range_low#68065, collections_12_mths_ex_med#68066, application_type#68069, acc_now_delinq#68073, tot_coll_amt#68074, tot_cur_bal#68075, open_acc_6m#74251, open_act_il#74252, open_il_12m#74253, open_il_24m#74254, total_bal_il#73829, il_util#73830, open_rv_12m#74255, open_rv_24m#74256, max_bal_bc#73831, all_util#73832, total_rev_hi_lim#68087, inq_fi#74257, total_cu_tl#74258, inq_last_12m#74259, acc_open_past_24mths#68091, avg_cur_bal#73833, bc_open_to_buy#73834, bc_util#73835, chargeoff_within_12_mths#68095, delinq_amnt#68096, mort_acc#68101, num_accts_ever_120_pd#68106, num_actv_bc_tl#68107, num_actv_rev_tl#68108, num_bc_sats#68109, num_bc_tl#68110, num_il_tl#68111, num_op_rev_tl#68112, num_rev_accts#74260, num_rev_tl_bal_gt_0#68114, num_sats#68115, num_tl_120dpd_2m#74261, num_tl_30dpd#68117, num_tl_90g_dpd_24m#68118, num_tl_op_past_12m#68119, percent_tl_nvr_deliq#73836, percent_bc_gt_75#73837, pub_rec_bankruptcies#68122, tax_liens#68123, tot_hi_cred_lim#68124, total_bal_ex_mort#68125, total_bc_limit#68126, total_il_high_credit_limit#68127, hardship_flag#75475, deferral_term#73337, debt_settlement_flag#68155, loan_amnt_to_annual_inc#76051, delinq_amnt_to_annual_inc#76196, revol_bal_to_annual_inc#76342, tot_cur_bal_to_annual_inc#76489]\n\n(6) Project\nOutput [108]: [_c0#68014, id#68015, loan_amnt#68016, funded_amnt#68017, funded_amnt_inv#68018, term#68019, int_rate#71461, installment#68021, grade#68022, sub_grade#68023, emp_title#75619, emp_length#74761, home_ownership#68026, annual_inc#68027, verification_status#68028, issue_d#70174, loan_status#68030, purpose#75907, title#75763, zip_code#75118, addr_state#68036, dti#73827, delinq_2yrs#68038, fico_range_low#68040, fico_range_high#68041, inq_last_6mths#74250, open_acc#68045, pub_rec#68046, revol_bal#68047, revol_util#73828, total_acc#68049, initial_list_status#68050, out_prncp#68051, out_prncp_inv#68052, total_pymnt#68053, total_pymnt_inv#68054, total_rec_prncp#68055, total_rec_int#68056, total_rec_late_fee#68057, recoveries#68058, collection_recovery_fee#68059, last_pymnt_d#70460, last_pymnt_amnt#68061, last_fico_range_high#68064, last_fico_range_low#68065, collections_12_mths_ex_med#68066, application_type#68069, acc_now_delinq#68073, tot_coll_amt#68074, tot_cur_bal#68075, open_acc_6m#74251, open_act_il#74252, open_il_12m#74253, open_il_24m#74254, total_bal_il#73829, il_util#73830, open_rv_12m#74255, open_rv_24m#74256, max_bal_bc#73831, all_util#73832, total_rev_hi_lim#68087, inq_fi#74257, total_cu_tl#74258, inq_last_12m#74259, acc_open_past_24mths#68091, avg_cur_bal#73833, bc_open_to_buy#73834, bc_util#73835, chargeoff_within_12_mths#68095, delinq_amnt#68096, mort_acc#68101, num_accts_ever_120_pd#68106, num_actv_bc_tl#68107, num_actv_rev_tl#68108, num_bc_sats#68109, num_bc_tl#68110, num_il_tl#68111, num_op_rev_tl#68112, num_rev_accts#74260, num_rev_tl_bal_gt_0#68114, num_sats#68115, num_tl_120dpd_2m#74261, num_tl_30dpd#68117, num_tl_90g_dpd_24m#68118, num_tl_op_past_12m#68119, percent_tl_nvr_deliq#73836, percent_bc_gt_75#73837, pub_rec_bankruptcies#68122, tax_liens#68123, tot_hi_cred_lim#68124, total_bal_ex_mort#68125, total_bc_limit#68126, total_il_high_credit_limit#68127, hardship_flag#75475, deferral_term#73337, debt_settlement_flag#68155, loan_amnt_to_annual_inc#76051, delinq_amnt_to_annual_inc#76196, revol_bal_to_annual_inc#76342, tot_cur_bal_to_annual_inc#76489, max_bal_bc_to_annual_inc#76637, avg_cur_bal_to_annual_inc#76786, total_bal_ex_mort_to_annual_inc#76936, open_cl_ratio#77087, num_mths_to_pay#77392, term_int#77545, (((cast(funded_amnt#68017 as double) * ((cast(int_rate#71461 as double) / 100.0) / 12.0)) * POWER((((cast(int_rate#71461 as double) / 100.0) / 12.0) + 1.0), cast(term_int#77545 as double))) / (POWER((((cast(int_rate#71461 as double) / 100.0) / 12.0) + 1.0), cast(term_int#77545 as double)) - 1.0)) AS calculated_installment#77699, (installment#68021 / (cast(annual_inc#68027 as double) + 1.0)) AS installment_to_annual_inc#77854]\nInput [106]: [_c0#68014, id#68015, loan_amnt#68016, funded_amnt#68017, funded_amnt_inv#68018, term#68019, int_rate#71461, installment#68021, grade#68022, sub_grade#68023, emp_title#75619, emp_length#74761, home_ownership#68026, annual_inc#68027, verification_status#68028, issue_d#70174, loan_status#68030, purpose#75907, title#75763, zip_code#75118, addr_state#68036, dti#73827, delinq_2yrs#68038, fico_range_low#68040, fico_range_high#68041, inq_last_6mths#74250, open_acc#68045, pub_rec#68046, revol_bal#68047, revol_util#73828, total_acc#68049, initial_list_status#68050, out_prncp#68051, out_prncp_inv#68052, total_pymnt#68053, total_pymnt_inv#68054, total_rec_prncp#68055, total_rec_int#68056, total_rec_late_fee#68057, recoveries#68058, collection_recovery_fee#68059, last_pymnt_d#70460, last_pymnt_amnt#68061, last_fico_range_high#68064, last_fico_range_low#68065, collections_12_mths_ex_med#68066, application_type#68069, acc_now_delinq#68073, tot_coll_amt#68074, tot_cur_bal#68075, open_acc_6m#74251, open_act_il#74252, open_il_12m#74253, open_il_24m#74254, total_bal_il#73829, il_util#73830, open_rv_12m#74255, open_rv_24m#74256, max_bal_bc#73831, all_util#73832, total_rev_hi_lim#68087, inq_fi#74257, total_cu_tl#74258, inq_last_12m#74259, acc_open_past_24mths#68091, avg_cur_bal#73833, bc_open_to_buy#73834, bc_util#73835, chargeoff_within_12_mths#68095, delinq_amnt#68096, mort_acc#68101, num_accts_ever_120_pd#68106, num_actv_bc_tl#68107, num_actv_rev_tl#68108, num_bc_sats#68109, num_bc_tl#68110, num_il_tl#68111, num_op_rev_tl#68112, num_rev_accts#74260, num_rev_tl_bal_gt_0#68114, num_sats#68115, num_tl_120dpd_2m#74261, num_tl_30dpd#68117, num_tl_90g_dpd_24m#68118, num_tl_op_past_12m#68119, percent_tl_nvr_deliq#73836, percent_bc_gt_75#73837, pub_rec_bankruptcies#68122, tax_liens#68123, tot_hi_cred_lim#68124, total_bal_ex_mort#68125, total_bc_limit#68126, total_il_high_credit_limit#68127, hardship_flag#75475, deferral_term#73337, debt_settlement_flag#68155, loan_amnt_to_annual_inc#76051, delinq_amnt_to_annual_inc#76196, revol_bal_to_annual_inc#76342, tot_cur_bal_to_annual_inc#76489, max_bal_bc_to_annual_inc#76637, avg_cur_bal_to_annual_inc#76786, total_bal_ex_mort_to_annual_inc#76936, open_cl_ratio#77087, num_mths_to_pay#77392, term_int#77545]\n\n(7) BatchEvalPython\nInput [108]: [_c0#68014, id#68015, loan_amnt#68016, funded_amnt#68017, funded_amnt_inv#68018, term#68019, int_rate#71461, installment#68021, grade#68022, sub_grade#68023, emp_title#75619, emp_length#74761, home_ownership#68026, annual_inc#68027, verification_status#68028, issue_d#70174, loan_status#68030, purpose#75907, title#75763, zip_code#75118, addr_state#68036, dti#73827, delinq_2yrs#68038, fico_range_low#68040, fico_range_high#68041, inq_last_6mths#74250, open_acc#68045, pub_rec#68046, revol_bal#68047, revol_util#73828, total_acc#68049, initial_list_status#68050, out_prncp#68051, out_prncp_inv#68052, total_pymnt#68053, total_pymnt_inv#68054, total_rec_prncp#68055, total_rec_int#68056, total_rec_late_fee#68057, recoveries#68058, collection_recovery_fee#68059, last_pymnt_d#70460, last_pymnt_amnt#68061, last_fico_range_high#68064, last_fico_range_low#68065, collections_12_mths_ex_med#68066, application_type#68069, acc_now_delinq#68073, tot_coll_amt#68074, tot_cur_bal#68075, open_acc_6m#74251, open_act_il#74252, open_il_12m#74253, open_il_24m#74254, total_bal_il#73829, il_util#73830, open_rv_12m#74255, open_rv_24m#74256, max_bal_bc#73831, all_util#73832, total_rev_hi_lim#68087, inq_fi#74257, total_cu_tl#74258, inq_last_12m#74259, acc_open_past_24mths#68091, avg_cur_bal#73833, bc_open_to_buy#73834, bc_util#73835, chargeoff_within_12_mths#68095, delinq_amnt#68096, mort_acc#68101, num_accts_ever_120_pd#68106, num_actv_bc_tl#68107, num_actv_rev_tl#68108, num_bc_sats#68109, num_bc_tl#68110, num_il_tl#68111, num_op_rev_tl#68112, num_rev_accts#74260, num_rev_tl_bal_gt_0#68114, num_sats#68115, num_tl_120dpd_2m#74261, num_tl_30dpd#68117, num_tl_90g_dpd_24m#68118, num_tl_op_past_12m#68119, percent_tl_nvr_deliq#73836, percent_bc_gt_75#73837, pub_rec_bankruptcies#68122, tax_liens#68123, tot_hi_cred_lim#68124, total_bal_ex_mort#68125, total_bc_limit#68126, total_il_high_credit_limit#68127, hardship_flag#75475, deferral_term#73337, debt_settlement_flag#68155, loan_amnt_to_annual_inc#76051, delinq_amnt_to_annual_inc#76196, revol_bal_to_annual_inc#76342, tot_cur_bal_to_annual_inc#76489, max_bal_bc_to_annual_inc#76637, avg_cur_bal_to_annual_inc#76786, total_bal_ex_mort_to_annual_inc#76936, open_cl_ratio#77087, num_mths_to_pay#77392, term_int#77545, calculated_installment#77699, installment_to_annual_inc#77854]\nArguments: [calculate_cdf(num_mths_to_pay#77392)#78325], [pythonUDF0#81347]\n\n(8) Project\nOutput [111]: [_c0#68014, id#68015, loan_amnt#68016, funded_amnt#68017, funded_amnt_inv#68018, term#68019, int_rate#71461, installment#68021, grade#68022, sub_grade#68023, emp_title#75619, emp_length#74761, home_ownership#68026, annual_inc#68027, verification_status#68028, issue_d#70174, loan_status#68030, purpose#75907, title#75763, zip_code#75118, addr_state#68036, dti#73827, delinq_2yrs#68038, fico_range_low#68040, fico_range_high#68041, inq_last_6mths#74250, open_acc#68045, pub_rec#68046, revol_bal#68047, revol_util#73828, total_acc#68049, initial_list_status#68050, out_prncp#68051, out_prncp_inv#68052, total_pymnt#68053, total_pymnt_inv#68054, total_rec_prncp#68055, total_rec_int#68056, total_rec_late_fee#68057, recoveries#68058, collection_recovery_fee#68059, last_pymnt_d#70460, last_pymnt_amnt#68061, last_fico_range_high#68064, last_fico_range_low#68065, collections_12_mths_ex_med#68066, application_type#68069, acc_now_delinq#68073, tot_coll_amt#68074, tot_cur_bal#68075, open_acc_6m#74251, open_act_il#74252, open_il_12m#74253, open_il_24m#74254, total_bal_il#73829, il_util#73830, open_rv_12m#74255, open_rv_24m#74256, max_bal_bc#73831, all_util#73832, total_rev_hi_lim#68087, inq_fi#74257, total_cu_tl#74258, inq_last_12m#74259, acc_open_past_24mths#68091, avg_cur_bal#73833, bc_open_to_buy#73834, bc_util#73835, chargeoff_within_12_mths#68095, delinq_amnt#68096, mort_acc#68101, num_accts_ever_120_pd#68106, num_actv_bc_tl#68107, num_actv_rev_tl#68108, num_bc_sats#68109, num_bc_tl#68110, num_il_tl#68111, num_op_rev_tl#68112, num_rev_accts#74260, num_rev_tl_bal_gt_0#68114, num_sats#68115, num_tl_120dpd_2m#74261, num_tl_30dpd#68117, num_tl_90g_dpd_24m#68118, num_tl_op_past_12m#68119, percent_tl_nvr_deliq#73836, percent_bc_gt_75#73837, pub_rec_bankruptcies#68122, tax_liens#68123, tot_hi_cred_lim#68124, total_bal_ex_mort#68125, total_bc_limit#68126, total_il_high_credit_limit#68127, hardship_flag#75475, deferral_term#73337, debt_settlement_flag#68155, loan_amnt_to_annual_inc#76051, delinq_amnt_to_annual_inc#76196, revol_bal_to_annual_inc#76342, tot_cur_bal_to_annual_inc#76489, max_bal_bc_to_annual_inc#76637, avg_cur_bal_to_annual_inc#76786, total_bal_ex_mort_to_annual_inc#76936, open_cl_ratio#77087, num_mths_to_pay#77392, term_int#77545, calculated_installment#77699, installment_to_annual_inc#77854, (calculated_installment#77699 / (cast(annual_inc#68027 as double) + 1.0)) AS calculated_installment_to_annual_inc#78010, CASE WHEN (num_mths_to_pay#77392 = 0) THEN last_pymnt_amnt#68061 ELSE cast((total_pymnt#68053 / cast(num_mths_to_pay#77392 as double)) as string) END AS avg_pymnt#78167, pythonUDF0#81347 AS cdf#78326]\nInput [109]: [_c0#68014, id#68015, loan_amnt#68016, funded_amnt#68017, funded_amnt_inv#68018, term#68019, int_rate#71461, installment#68021, grade#68022, sub_grade#68023, emp_title#75619, emp_length#74761, home_ownership#68026, annual_inc#68027, verification_status#68028, issue_d#70174, loan_status#68030, purpose#75907, title#75763, zip_code#75118, addr_state#68036, dti#73827, delinq_2yrs#68038, fico_range_low#68040, fico_range_high#68041, inq_last_6mths#74250, open_acc#68045, pub_rec#68046, revol_bal#68047, revol_util#73828, total_acc#68049, initial_list_status#68050, out_prncp#68051, out_prncp_inv#68052, total_pymnt#68053, total_pymnt_inv#68054, total_rec_prncp#68055, total_rec_int#68056, total_rec_late_fee#68057, recoveries#68058, collection_recovery_fee#68059, last_pymnt_d#70460, last_pymnt_amnt#68061, last_fico_range_high#68064, last_fico_range_low#68065, collections_12_mths_ex_med#68066, application_type#68069, acc_now_delinq#68073, tot_coll_amt#68074, tot_cur_bal#68075, open_acc_6m#74251, open_act_il#74252, open_il_12m#74253, open_il_24m#74254, total_bal_il#73829, il_util#73830, open_rv_12m#74255, open_rv_24m#74256, max_bal_bc#73831, all_util#73832, total_rev_hi_lim#68087, inq_fi#74257, total_cu_tl#74258, inq_last_12m#74259, acc_open_past_24mths#68091, avg_cur_bal#73833, bc_open_to_buy#73834, bc_util#73835, chargeoff_within_12_mths#68095, delinq_amnt#68096, mort_acc#68101, num_accts_ever_120_pd#68106, num_actv_bc_tl#68107, num_actv_rev_tl#68108, num_bc_sats#68109, num_bc_tl#68110, num_il_tl#68111, num_op_rev_tl#68112, num_rev_accts#74260, num_rev_tl_bal_gt_0#68114, num_sats#68115, num_tl_120dpd_2m#74261, num_tl_30dpd#68117, num_tl_90g_dpd_24m#68118, num_tl_op_past_12m#68119, percent_tl_nvr_deliq#73836, percent_bc_gt_75#73837, pub_rec_bankruptcies#68122, tax_liens#68123, tot_hi_cred_lim#68124, total_bal_ex_mort#68125, total_bc_limit#68126, total_il_high_credit_limit#68127, hardship_flag#75475, deferral_term#73337, debt_settlement_flag#68155, loan_amnt_to_annual_inc#76051, delinq_amnt_to_annual_inc#76196, revol_bal_to_annual_inc#76342, tot_cur_bal_to_annual_inc#76489, max_bal_bc_to_annual_inc#76637, avg_cur_bal_to_annual_inc#76786, total_bal_ex_mort_to_annual_inc#76936, open_cl_ratio#77087, num_mths_to_pay#77392, term_int#77545, calculated_installment#77699, installment_to_annual_inc#77854, pythonUDF0#81347]\n\n(9) Project\nOutput [110]: [_c0#68014, id#68015, loan_amnt#68016, funded_amnt#68017, funded_amnt_inv#68018, term#68019, int_rate#71461, installment#68021, grade#68022, sub_grade#68023, emp_title#75619, emp_length#74761, home_ownership#68026, annual_inc#68027, verification_status#68028, issue_d#70174, loan_status#68030, purpose#75907, title#75763, zip_code#75118, addr_state#68036, dti#73827, delinq_2yrs#68038, fico_range_low#68040, fico_range_high#68041, inq_last_6mths#74250, open_acc#68045, pub_rec#68046, revol_bal#68047, revol_util#73828, total_acc#68049, initial_list_status#68050, out_prncp#68051, out_prncp_inv#68052, total_pymnt#68053, total_pymnt_inv#68054, total_rec_prncp#68055, total_rec_int#68056, total_rec_late_fee#68057, recoveries#68058, collection_recovery_fee#68059, last_pymnt_amnt#68061, last_fico_range_high#68064, last_fico_range_low#68065, collections_12_mths_ex_med#68066, application_type#68069, acc_now_delinq#68073, tot_coll_amt#68074, tot_cur_bal#68075, open_acc_6m#74251, open_act_il#74252, open_il_12m#74253, open_il_24m#74254, total_bal_il#73829, il_util#73830, open_rv_12m#74255, open_rv_24m#74256, max_bal_bc#73831, all_util#73832, total_rev_hi_lim#68087, inq_fi#74257, total_cu_tl#74258, inq_last_12m#74259, acc_open_past_24mths#68091, avg_cur_bal#73833, bc_open_to_buy#73834, bc_util#73835, chargeoff_within_12_mths#68095, delinq_amnt#68096, mort_acc#68101, num_accts_ever_120_pd#68106, num_actv_bc_tl#68107, num_actv_rev_tl#68108, num_bc_sats#68109, num_bc_tl#68110, num_il_tl#68111, num_op_rev_tl#68112, num_rev_accts#74260, num_rev_tl_bal_gt_0#68114, num_sats#68115, num_tl_120dpd_2m#74261, num_tl_30dpd#68117, num_tl_90g_dpd_24m#68118, num_tl_op_past_12m#68119, percent_tl_nvr_deliq#73836, percent_bc_gt_75#73837, pub_rec_bankruptcies#68122, tax_liens#68123, tot_hi_cred_lim#68124, total_bal_ex_mort#68125, total_bc_limit#68126, total_il_high_credit_limit#68127, hardship_flag#75475, deferral_term#73337, debt_settlement_flag#68155, loan_amnt_to_annual_inc#76051, delinq_amnt_to_annual_inc#76196, revol_bal_to_annual_inc#76342, tot_cur_bal_to_annual_inc#76489, max_bal_bc_to_annual_inc#76637, avg_cur_bal_to_annual_inc#76786, total_bal_ex_mort_to_annual_inc#76936, open_cl_ratio#77087, CASE WHEN (RLIKE(loan_status#68030, (Fully)) AND (issue_d#70174 = last_pymnt_d#70460)) THEN 1 ELSE num_mths_to_pay#77392 END AS num_mths_to_pay#79137, term_int#77545, calculated_installment#77699, installment_to_annual_inc#77854, calculated_installment_to_annual_inc#78010, avg_pymnt#78167, (((cast(CASE WHEN ((cast(avg_pymnt#78167 as int) > 0) AND (num_mths_to_pay#77392 = 0)) THEN avg_pymnt#78167 ELSE cast((cast(cdf#78326 as double) * cast(avg_pymnt#78167 as double)) as string) END as double) + (((recoveries#68058 - collection_recovery_fee#68059) * 1.0) / POWER(1.0016666666666667, cast((num_mths_to_pay#77392 + 6) as double)))) - cast(funded_amnt#68017 as double)) / cast(funded_amnt#68017 as double)) AS ROI#78965]\nInput [111]: [_c0#68014, id#68015, loan_amnt#68016, funded_amnt#68017, funded_amnt_inv#68018, term#68019, int_rate#71461, installment#68021, grade#68022, sub_grade#68023, emp_title#75619, emp_length#74761, home_ownership#68026, annual_inc#68027, verification_status#68028, issue_d#70174, loan_status#68030, purpose#75907, title#75763, zip_code#75118, addr_state#68036, dti#73827, delinq_2yrs#68038, fico_range_low#68040, fico_range_high#68041, inq_last_6mths#74250, open_acc#68045, pub_rec#68046, revol_bal#68047, revol_util#73828, total_acc#68049, initial_list_status#68050, out_prncp#68051, out_prncp_inv#68052, total_pymnt#68053, total_pymnt_inv#68054, total_rec_prncp#68055, total_rec_int#68056, total_rec_late_fee#68057, recoveries#68058, collection_recovery_fee#68059, last_pymnt_d#70460, last_pymnt_amnt#68061, last_fico_range_high#68064, last_fico_range_low#68065, collections_12_mths_ex_med#68066, application_type#68069, acc_now_delinq#68073, tot_coll_amt#68074, tot_cur_bal#68075, open_acc_6m#74251, open_act_il#74252, open_il_12m#74253, open_il_24m#74254, total_bal_il#73829, il_util#73830, open_rv_12m#74255, open_rv_24m#74256, max_bal_bc#73831, all_util#73832, total_rev_hi_lim#68087, inq_fi#74257, total_cu_tl#74258, inq_last_12m#74259, acc_open_past_24mths#68091, avg_cur_bal#73833, bc_open_to_buy#73834, bc_util#73835, chargeoff_within_12_mths#68095, delinq_amnt#68096, mort_acc#68101, num_accts_ever_120_pd#68106, num_actv_bc_tl#68107, num_actv_rev_tl#68108, num_bc_sats#68109, num_bc_tl#68110, num_il_tl#68111, num_op_rev_tl#68112, num_rev_accts#74260, num_rev_tl_bal_gt_0#68114, num_sats#68115, num_tl_120dpd_2m#74261, num_tl_30dpd#68117, num_tl_90g_dpd_24m#68118, num_tl_op_past_12m#68119, percent_tl_nvr_deliq#73836, percent_bc_gt_75#73837, pub_rec_bankruptcies#68122, tax_liens#68123, tot_hi_cred_lim#68124, total_bal_ex_mort#68125, total_bc_limit#68126, total_il_high_credit_limit#68127, hardship_flag#75475, deferral_term#73337, debt_settlement_flag#68155, loan_amnt_to_annual_inc#76051, delinq_amnt_to_annual_inc#76196, revol_bal_to_annual_inc#76342, tot_cur_bal_to_annual_inc#76489, max_bal_bc_to_annual_inc#76637, avg_cur_bal_to_annual_inc#76786, total_bal_ex_mort_to_annual_inc#76936, open_cl_ratio#77087, num_mths_to_pay#77392, term_int#77545, calculated_installment#77699, installment_to_annual_inc#77854, calculated_installment_to_annual_inc#78010, avg_pymnt#78167, cdf#78326]\n\n(10) BatchEvalPython\nInput [110]: [_c0#68014, id#68015, loan_amnt#68016, funded_amnt#68017, funded_amnt_inv#68018, term#68019, int_rate#71461, installment#68021, grade#68022, sub_grade#68023, emp_title#75619, emp_length#74761, home_ownership#68026, annual_inc#68027, verification_status#68028, issue_d#70174, loan_status#68030, purpose#75907, title#75763, zip_code#75118, addr_state#68036, dti#73827, delinq_2yrs#68038, fico_range_low#68040, fico_range_high#68041, inq_last_6mths#74250, open_acc#68045, pub_rec#68046, revol_bal#68047, revol_util#73828, total_acc#68049, initial_list_status#68050, out_prncp#68051, out_prncp_inv#68052, total_pymnt#68053, total_pymnt_inv#68054, total_rec_prncp#68055, total_rec_int#68056, total_rec_late_fee#68057, recoveries#68058, collection_recovery_fee#68059, last_pymnt_amnt#68061, last_fico_range_high#68064, last_fico_range_low#68065, collections_12_mths_ex_med#68066, application_type#68069, acc_now_delinq#68073, tot_coll_amt#68074, tot_cur_bal#68075, open_acc_6m#74251, open_act_il#74252, open_il_12m#74253, open_il_24m#74254, total_bal_il#73829, il_util#73830, open_rv_12m#74255, open_rv_24m#74256, max_bal_bc#73831, all_util#73832, total_rev_hi_lim#68087, inq_fi#74257, total_cu_tl#74258, inq_last_12m#74259, acc_open_past_24mths#68091, avg_cur_bal#73833, bc_open_to_buy#73834, bc_util#73835, chargeoff_within_12_mths#68095, delinq_amnt#68096, mort_acc#68101, num_accts_ever_120_pd#68106, num_actv_bc_tl#68107, num_actv_rev_tl#68108, num_bc_sats#68109, num_bc_tl#68110, num_il_tl#68111, num_op_rev_tl#68112, num_rev_accts#74260, num_rev_tl_bal_gt_0#68114, num_sats#68115, num_tl_120dpd_2m#74261, num_tl_30dpd#68117, num_tl_90g_dpd_24m#68118, num_tl_op_past_12m#68119, percent_tl_nvr_deliq#73836, percent_bc_gt_75#73837, pub_rec_bankruptcies#68122, tax_liens#68123, tot_hi_cred_lim#68124, total_bal_ex_mort#68125, total_bc_limit#68126, total_il_high_credit_limit#68127, hardship_flag#75475, deferral_term#73337, debt_settlement_flag#68155, loan_amnt_to_annual_inc#76051, delinq_amnt_to_annual_inc#76196, revol_bal_to_annual_inc#76342, tot_cur_bal_to_annual_inc#76489, max_bal_bc_to_annual_inc#76637, avg_cur_bal_to_annual_inc#76786, total_bal_ex_mort_to_annual_inc#76936, open_cl_ratio#77087, num_mths_to_pay#79137, term_int#77545, calculated_installment#77699, installment_to_annual_inc#77854, calculated_installment_to_annual_inc#78010, avg_pymnt#78167, ROI#78965]\nArguments: [irr(make_list_of_cashflow(funded_amnt#68017, avg_pymnt#78167, num_mths_to_pay#79137)#79322)#79495, binning_int_rate(int_rate#71461)#80564, binning_income(annual_inc#68027)#80678], [pythonUDF0#81348, pythonUDF1#81349, pythonUDF2#81350]\n\n(11) Project\nOutput [113]: [_c0#68014, id#68015, loan_amnt#68016, funded_amnt#68017, funded_amnt_inv#68018, term#68019, int_rate#71461, installment#68021, grade#68022, sub_grade#68023, emp_title#75619, emp_length#74761, home_ownership#68026, annual_inc#68027, verification_status#68028, issue_d#70174, loan_status#68030, purpose#75907, title#75763, zip_code#75118, addr_state#68036, dti#73827, delinq_2yrs#68038, fico_range_low#68040, fico_range_high#68041, inq_last_6mths#74250, open_acc#68045, pub_rec#68046, revol_bal#68047, revol_util#73828, total_acc#68049, initial_list_status#68050, out_prncp#68051, out_prncp_inv#68052, total_pymnt#68053, total_pymnt_inv#68054, total_rec_prncp#68055, total_rec_int#68056, total_rec_late_fee#68057, recoveries#68058, collection_recovery_fee#68059, last_pymnt_amnt#68061, last_fico_range_high#68064, last_fico_range_low#68065, collections_12_mths_ex_med#68066, application_type#68069, acc_now_delinq#68073, tot_coll_amt#68074, tot_cur_bal#68075, open_acc_6m#74251, open_act_il#74252, open_il_12m#74253, open_il_24m#74254, total_bal_il#73829, il_util#73830, open_rv_12m#74255, open_rv_24m#74256, max_bal_bc#73831, all_util#73832, total_rev_hi_lim#68087, inq_fi#74257, total_cu_tl#74258, inq_last_12m#74259, acc_open_past_24mths#68091, avg_cur_bal#73833, bc_open_to_buy#73834, bc_util#73835, chargeoff_within_12_mths#68095, delinq_amnt#68096, mort_acc#68101, num_accts_ever_120_pd#68106, num_actv_bc_tl#68107, num_actv_rev_tl#68108, num_bc_sats#68109, num_bc_tl#68110, num_il_tl#68111, num_op_rev_tl#68112, num_rev_accts#74260, num_rev_tl_bal_gt_0#68114, num_sats#68115, num_tl_120dpd_2m#74261, num_tl_30dpd#68117, num_tl_90g_dpd_24m#68118, num_tl_op_past_12m#68119, percent_tl_nvr_deliq#73836, percent_bc_gt_75#73837, pub_rec_bankruptcies#68122, tax_liens#68123, tot_hi_cred_lim#68124, total_bal_ex_mort#68125, total_bc_limit#68126, total_il_high_credit_limit#68127, hardship_flag#75475, deferral_term#73337, debt_settlement_flag#68155, loan_amnt_to_annual_inc#76051, delinq_amnt_to_annual_inc#76196, revol_bal_to_annual_inc#76342, tot_cur_bal_to_annual_inc#76489, max_bal_bc_to_annual_inc#76637, avg_cur_bal_to_annual_inc#76786, total_bal_ex_mort_to_annual_inc#76936, open_cl_ratio#77087, num_mths_to_pay#79137, term_int#77545, calculated_installment#77699, installment_to_annual_inc#77854, calculated_installment_to_annual_inc#78010, avg_pymnt#78167, ROI#78965, pythonUDF0#81348 AS irr#79496, pythonUDF1#81349 AS int_rate_bin#80565, pythonUDF2#81350 AS annual_inc_bin#80679]\nInput [113]: [_c0#68014, id#68015, loan_amnt#68016, funded_amnt#68017, funded_amnt_inv#68018, term#68019, int_rate#71461, installment#68021, grade#68022, sub_grade#68023, emp_title#75619, emp_length#74761, home_ownership#68026, annual_inc#68027, verification_status#68028, issue_d#70174, loan_status#68030, purpose#75907, title#75763, zip_code#75118, addr_state#68036, dti#73827, delinq_2yrs#68038, fico_range_low#68040, fico_range_high#68041, inq_last_6mths#74250, open_acc#68045, pub_rec#68046, revol_bal#68047, revol_util#73828, total_acc#68049, initial_list_status#68050, out_prncp#68051, out_prncp_inv#68052, total_pymnt#68053, total_pymnt_inv#68054, total_rec_prncp#68055, total_rec_int#68056, total_rec_late_fee#68057, recoveries#68058, collection_recovery_fee#68059, last_pymnt_amnt#68061, last_fico_range_high#68064, last_fico_range_low#68065, collections_12_mths_ex_med#68066, application_type#68069, acc_now_delinq#68073, tot_coll_amt#68074, tot_cur_bal#68075, open_acc_6m#74251, open_act_il#74252, open_il_12m#74253, open_il_24m#74254, total_bal_il#73829, il_util#73830, open_rv_12m#74255, open_rv_24m#74256, max_bal_bc#73831, all_util#73832, total_rev_hi_lim#68087, inq_fi#74257, total_cu_tl#74258, inq_last_12m#74259, acc_open_past_24mths#68091, avg_cur_bal#73833, bc_open_to_buy#73834, bc_util#73835, chargeoff_within_12_mths#68095, delinq_amnt#68096, mort_acc#68101, num_accts_ever_120_pd#68106, num_actv_bc_tl#68107, num_actv_rev_tl#68108, num_bc_sats#68109, num_bc_tl#68110, num_il_tl#68111, num_op_rev_tl#68112, num_rev_accts#74260, num_rev_tl_bal_gt_0#68114, num_sats#68115, num_tl_120dpd_2m#74261, num_tl_30dpd#68117, num_tl_90g_dpd_24m#68118, num_tl_op_past_12m#68119, percent_tl_nvr_deliq#73836, percent_bc_gt_75#73837, pub_rec_bankruptcies#68122, tax_liens#68123, tot_hi_cred_lim#68124, total_bal_ex_mort#68125, total_bc_limit#68126, total_il_high_credit_limit#68127, hardship_flag#75475, deferral_term#73337, debt_settlement_flag#68155, loan_amnt_to_annual_inc#76051, delinq_amnt_to_annual_inc#76196, revol_bal_to_annual_inc#76342, tot_cur_bal_to_annual_inc#76489, max_bal_bc_to_annual_inc#76637, avg_cur_bal_to_annual_inc#76786, total_bal_ex_mort_to_annual_inc#76936, open_cl_ratio#77087, num_mths_to_pay#79137, term_int#77545, calculated_installment#77699, installment_to_annual_inc#77854, calculated_installment_to_annual_inc#78010, avg_pymnt#78167, ROI#78965, pythonUDF0#81348, pythonUDF1#81349, pythonUDF2#81350]\n\n\n"
     ]
    }
   ],
   "source": [
    "df.explain(mode=\"formatted\")"
   ]
  },
  {
   "cell_type": "code",
   "execution_count": 0,
   "metadata": {
    "application/vnd.databricks.v1+cell": {
     "cellMetadata": {},
     "inputWidgets": {},
     "nuid": "3be7c1a5-81b1-4e39-a46a-6958bfc939a2",
     "showTitle": false,
     "title": ""
    }
   },
   "outputs": [
    {
     "output_type": "stream",
     "name": "stdout",
     "output_type": "stream",
     "text": [
      "root\n |-- _c0: integer (nullable = true)\n |-- id: string (nullable = true)\n |-- loan_amnt: integer (nullable = true)\n |-- funded_amnt: integer (nullable = true)\n |-- funded_amnt_inv: double (nullable = true)\n |-- term: string (nullable = true)\n |-- int_rate: float (nullable = true)\n |-- installment: double (nullable = true)\n |-- grade: string (nullable = true)\n |-- sub_grade: string (nullable = true)\n |-- emp_title: string (nullable = true)\n |-- emp_length: string (nullable = true)\n |-- home_ownership: string (nullable = true)\n |-- annual_inc: string (nullable = true)\n |-- verification_status: string (nullable = true)\n |-- issue_d: date (nullable = true)\n |-- loan_status: string (nullable = true)\n |-- purpose: string (nullable = true)\n |-- title: string (nullable = true)\n |-- zip_code: string (nullable = true)\n |-- addr_state: string (nullable = true)\n |-- dti: float (nullable = true)\n |-- delinq_2yrs: double (nullable = true)\n |-- fico_range_low: string (nullable = true)\n |-- fico_range_high: integer (nullable = true)\n |-- inq_last_6mths: integer (nullable = true)\n |-- open_acc: integer (nullable = true)\n |-- pub_rec: integer (nullable = true)\n |-- revol_bal: integer (nullable = true)\n |-- revol_util: float (nullable = true)\n |-- total_acc: string (nullable = true)\n |-- initial_list_status: string (nullable = true)\n |-- out_prncp: string (nullable = true)\n |-- out_prncp_inv: double (nullable = true)\n |-- total_pymnt: double (nullable = true)\n |-- total_pymnt_inv: double (nullable = true)\n |-- total_rec_prncp: double (nullable = true)\n |-- total_rec_int: double (nullable = true)\n |-- total_rec_late_fee: double (nullable = true)\n |-- recoveries: double (nullable = true)\n |-- collection_recovery_fee: double (nullable = true)\n |-- last_pymnt_amnt: string (nullable = true)\n |-- last_fico_range_high: string (nullable = true)\n |-- last_fico_range_low: integer (nullable = true)\n |-- collections_12_mths_ex_med: integer (nullable = true)\n |-- application_type: string (nullable = true)\n |-- acc_now_delinq: integer (nullable = true)\n |-- tot_coll_amt: integer (nullable = true)\n |-- tot_cur_bal: integer (nullable = true)\n |-- open_acc_6m: integer (nullable = true)\n |-- open_act_il: integer (nullable = true)\n |-- open_il_12m: integer (nullable = true)\n |-- open_il_24m: integer (nullable = true)\n |-- total_bal_il: integer (nullable = true)\n |-- il_util: integer (nullable = true)\n |-- open_rv_12m: integer (nullable = true)\n |-- open_rv_24m: integer (nullable = true)\n |-- max_bal_bc: integer (nullable = true)\n |-- all_util: integer (nullable = true)\n |-- total_rev_hi_lim: integer (nullable = true)\n |-- inq_fi: integer (nullable = true)\n |-- total_cu_tl: integer (nullable = true)\n |-- inq_last_12m: integer (nullable = true)\n |-- acc_open_past_24mths: integer (nullable = true)\n |-- avg_cur_bal: integer (nullable = true)\n |-- bc_open_to_buy: integer (nullable = true)\n |-- bc_util: double (nullable = true)\n |-- chargeoff_within_12_mths: double (nullable = true)\n |-- delinq_amnt: integer (nullable = true)\n |-- mort_acc: integer (nullable = true)\n |-- num_accts_ever_120_pd: integer (nullable = true)\n |-- num_actv_bc_tl: integer (nullable = true)\n |-- num_actv_rev_tl: integer (nullable = true)\n |-- num_bc_sats: integer (nullable = true)\n |-- num_bc_tl: integer (nullable = true)\n |-- num_il_tl: integer (nullable = true)\n |-- num_op_rev_tl: integer (nullable = true)\n |-- num_rev_accts: integer (nullable = true)\n |-- num_rev_tl_bal_gt_0: integer (nullable = true)\n |-- num_sats: integer (nullable = true)\n |-- num_tl_120dpd_2m: integer (nullable = true)\n |-- num_tl_30dpd: integer (nullable = true)\n |-- num_tl_90g_dpd_24m: integer (nullable = true)\n |-- num_tl_op_past_12m: integer (nullable = true)\n |-- percent_tl_nvr_deliq: double (nullable = true)\n |-- percent_bc_gt_75: double (nullable = true)\n |-- pub_rec_bankruptcies: integer (nullable = true)\n |-- tax_liens: integer (nullable = true)\n |-- tot_hi_cred_lim: integer (nullable = true)\n |-- total_bal_ex_mort: integer (nullable = true)\n |-- total_bc_limit: integer (nullable = true)\n |-- total_il_high_credit_limit: integer (nullable = true)\n |-- hardship_flag: string (nullable = true)\n |-- deferral_term: integer (nullable = true)\n |-- debt_settlement_flag: string (nullable = true)\n |-- loan_amnt_to_annual_inc: double (nullable = true)\n |-- delinq_amnt_to_annual_inc: double (nullable = true)\n |-- revol_bal_to_annual_inc: double (nullable = true)\n |-- tot_cur_bal_to_annual_inc: double (nullable = true)\n |-- max_bal_bc_to_annual_inc: double (nullable = true)\n |-- avg_cur_bal_to_annual_inc: double (nullable = true)\n |-- total_bal_ex_mort_to_annual_inc: double (nullable = true)\n |-- open_cl_ratio: double (nullable = true)\n |-- num_mths_to_pay: integer (nullable = true)\n |-- term_int: integer (nullable = true)\n |-- calculated_installment: double (nullable = true)\n |-- installment_to_annual_inc: double (nullable = true)\n |-- calculated_installment_to_annual_inc: double (nullable = true)\n |-- avg_pymnt: string (nullable = true)\n |-- ROI: double (nullable = true)\n |-- irr: float (nullable = true)\n |-- int_rate_bin: string (nullable = true)\n |-- annual_inc_bin: string (nullable = true)\n\n"
     ]
    }
   ],
   "source": [
    "# Show the final schema\n",
    "df.printSchema()\n"
   ]
  },
  {
   "cell_type": "code",
   "execution_count": 0,
   "metadata": {
    "application/vnd.databricks.v1+cell": {
     "cellMetadata": {},
     "inputWidgets": {},
     "nuid": "2e3d32fe-0ee6-4852-818b-30c2dc81dd4f",
     "showTitle": false,
     "title": ""
    }
   },
   "outputs": [],
   "source": [
    "df.write.format(\"csv\").option(\"header\", \"true\").option(\"encoding\", \"UTF-8\").mode(\n",
    "    \"overwrite\").save(\"wasbs://inputcleaned@\"+storage_account_name+\".blob.core.windows.net/loan\")"
   ]
  }
 ],
 "metadata": {
  "application/vnd.databricks.v1+notebook": {
   "dashboards": [],
   "environmentMetadata": null,
   "language": "python",
   "notebookMetadata": {
    "pythonIndentUnit": 4
   },
   "notebookName": "data_pre_processing",
   "widgets": {}
  },
  "kernelspec": {
   "display_name": "Python 3 (ipykernel)",
   "language": "python",
   "name": "python3"
  },
  "language_info": {
   "codemirror_mode": {
    "name": "ipython",
    "version": 3
   },
   "file_extension": ".py",
   "mimetype": "text/x-python",
   "name": "python",
   "nbconvert_exporter": "python",
   "pygments_lexer": "ipython3",
   "version": "3.10.11"
  }
 },
 "nbformat": 4,
 "nbformat_minor": 0
}
